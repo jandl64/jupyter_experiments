{
 "cells": [
  {
   "cell_type": "markdown",
   "metadata": {},
   "source": [
    "# <font color='#7F0000'>Oficina Python Básico<br/>OP1-13-Passagem de parâmetros</font>"
   ]
  },
  {
   "cell_type": "code",
   "execution_count": null,
   "metadata": {},
   "outputs": [],
   "source": [
    "# Uma função é um trecho de código independente, um fragmento especial do\n",
    "# programa, ou seja, um subprograma, que realiza uma tarefa específica.\n",
    "# Um dos melhores usos das funções é evitar a repetição de código."
   ]
  },
  {
   "cell_type": "markdown",
   "metadata": {},
   "source": [
    "## Passagem de parâmetros"
   ]
  },
  {
   "cell_type": "code",
   "execution_count": null,
   "metadata": {},
   "outputs": [],
   "source": [
    "# Uma função pode ter sua execução modificada com o uso de parâmetros,\n",
    "# ou seja, os argumentos recebidos como parâmetros podem modificar o\n",
    "# comportamento da função.\n",
    "# Funções podem ser definidas com nenhum, um ou muitos parâmetros.\n",
    "# A relação de parâmetros necessários por uma função é conhecida como\n",
    "# lista de parâmetros."
   ]
  },
  {
   "cell_type": "code",
   "execution_count": 1,
   "metadata": {},
   "outputs": [],
   "source": [
    "# Cada parâmetro indicado na lista de parâmetros é como uma \n",
    "# variável local (interior) à função.\n",
    "def soma(a, b):\n",
    "    c = a + b\n",
    "    return c"
   ]
  },
  {
   "cell_type": "code",
   "execution_count": 4,
   "metadata": {},
   "outputs": [
    {
     "name": "stdout",
     "output_type": "stream",
     "text": [
      "13.5\n",
      "20.0\n"
     ]
    }
   ],
   "source": [
    "# Os valores dos parâmetros, isto é, seus argumentos, são \n",
    "# fornecidos no instante da chamada da função:\n",
    "y = 13.5\n",
    "print(y)\n",
    "z = soma( 6.5, y ) # chamada da função\n",
    "print(z)"
   ]
  },
  {
   "cell_type": "code",
   "execution_count": null,
   "metadata": {},
   "outputs": [],
   "source": [
    "# Funções parametrizadas"
   ]
  },
  {
   "cell_type": "code",
   "execution_count": 5,
   "metadata": {},
   "outputs": [],
   "source": [
    "def ePar(valor):\n",
    "    resultado = valor % 2 == 0  # testa se resto da divisão inteira por 2 é zero\n",
    "    return resultado            # retorna resultado lógico (bool) do teste\n",
    "\n",
    "\n",
    "def ePrimo(valor):\n",
    "    if valor < 2: return False  # se valor menor que 2 não pode ser primo\n",
    "    for i in range(2, valor):   # verifica divisão entre 2 e valor\n",
    "        # testa se resto da divisão inteira de valor por i é zero (divisível)\n",
    "        if valor % i == 0: return False\n",
    "    return True                 # valor é primo"
   ]
  },
  {
   "cell_type": "code",
   "execution_count": null,
   "metadata": {},
   "outputs": [],
   "source": [
    "# Programa principal, que faz uso das funções previamente definidas."
   ]
  },
  {
   "cell_type": "code",
   "execution_count": 6,
   "metadata": {},
   "outputs": [
    {
     "name": "stdout",
     "output_type": "stream",
     "text": [
      "Testes\n",
      "-------------------\n",
      "Digite um inteiro positivo (>0): 3\n",
      "-------------------\n",
      "3 é   par:  False\n",
      "3 é primo:  True\n"
     ]
    }
   ],
   "source": [
    "print('Testes')\n",
    "print('-------------------')\n",
    "valor = int(input('Digite um inteiro positivo (>0): '))\n",
    "print('-------------------')\n",
    "# chamada de função, COM armazenamento do resultado\n",
    "par = ePar(valor)\n",
    "print(valor, 'é   par: ', par)\n",
    "\n",
    "# chamada de função, SEM armazenamento do resultado\n",
    "print(valor, 'é primo: ', ePrimo(valor))"
   ]
  },
  {
   "cell_type": "markdown",
   "metadata": {},
   "source": [
    "### Parâmetros nomeados"
   ]
  },
  {
   "cell_type": "code",
   "execution_count": 12,
   "metadata": {},
   "outputs": [],
   "source": [
    "# Uma função pode receber zero, um, dois ou mais parâmetros.\n",
    "# Quando existem dois ou mais parâmetros, é comum que, em sua\n",
    "# chamada, os argumentos sejam fornecidos na ordem \"natural\"\"\n",
    "# dos parâmetros (isto é, como declarados)."
   ]
  },
  {
   "cell_type": "code",
   "execution_count": 13,
   "metadata": {},
   "outputs": [],
   "source": [
    "def multiParam(a, b, c):\n",
    "    ''' Função ilustrativa da passagem de parâmetros.\n",
    "        Parâmetros: a, b, c, de qualquer tipo\n",
    "        Valor de retorno: não tem\n",
    "    '''\n",
    "    print(\"Parâmetro a:\", a)\n",
    "    print(\"Parâmetro b:\", b)\n",
    "    print(\"Parâmetro c:\", c)\n",
    "    return"
   ]
  },
  {
   "cell_type": "code",
   "execution_count": 14,
   "metadata": {},
   "outputs": [
    {
     "name": "stdout",
     "output_type": "stream",
     "text": [
      "Parâmetro a: 10\n",
      "Parâmetro b: Jandl\n",
      "Parâmetro c: 23.45\n"
     ]
    }
   ],
   "source": [
    "# Chamada \"natural\" da função multiParam\n",
    "multiParam(10, 'Jandl', 23.45)"
   ]
  },
  {
   "cell_type": "code",
   "execution_count": 15,
   "metadata": {},
   "outputs": [
    {
     "name": "stdout",
     "output_type": "stream",
     "text": [
      "Parâmetro a: 10\n",
      "Parâmetro b: Jandl\n",
      "Parâmetro c: 23.45\n"
     ]
    }
   ],
   "source": [
    "# Chamada da função multiParam com parâmetros nomeados\n",
    "# Os argumentos podem ser supridos em qualquer ordem, pois\n",
    "multiParam(c=23.45, a=10, b='Jandl')"
   ]
  },
  {
   "cell_type": "markdown",
   "metadata": {},
   "source": [
    "### Parâmetros default"
   ]
  },
  {
   "cell_type": "code",
   "execution_count": 16,
   "metadata": {},
   "outputs": [],
   "source": [
    "# Funções com parâmetros default têm parâmetros com valores pré-definidos.\n",
    "# Podem ser usadas: diretamente (só fornecendo os argumentos obrigatórios);\n",
    "# ou indicando qualquer número dos argumentos opcionais\n",
    "# na ordem ou nomeando os parâmetros,"
   ]
  },
  {
   "cell_type": "code",
   "execution_count": 17,
   "metadata": {},
   "outputs": [],
   "source": [
    "# função com parâmetros default\n",
    "def situacao(nota, freq, CH, MAp=6.0, FAp=.75):\n",
    "    ''' Propósito: Verifica situação de aprovação numa disciplina\n",
    "        Parâmetros: nota(float), frequencia(float), carga horária(int)\n",
    "            média aprovação(float=6.0), frequência aprovação(float=0.75)\n",
    "        Valor de retorno: int 0 (aprovado), 1 (reprov. nota),\n",
    "            2 (reprov. falta) ou 3 (reprov. nota e falta \n",
    "'''\n",
    "    situacao = 0\n",
    "    if nota<MAp:\n",
    "        situacao += 1\n",
    "    if (freq/CH)<FAp:\n",
    "        situacao += 2\n",
    "    return situacao"
   ]
  },
  {
   "cell_type": "code",
   "execution_count": 18,
   "metadata": {},
   "outputs": [
    {
     "name": "stdout",
     "output_type": "stream",
     "text": [
      "Digite sua nota (real): 5\n",
      "Digite suas presenças (inteiro: 80\n",
      "Digite carga horária (inteiro: 100\n",
      "-------------------\n",
      "Padrão: média 6.0 e 75% freq. mínima\n",
      "Situação:  1\n",
      "-------------------\n",
      "Especial: média 5.0 e 80% freq. mínima\n",
      "Situação:  0\n",
      "-------------------\n"
     ]
    }
   ],
   "source": [
    "nota = float(input('Digite sua nota (real): '))\n",
    "freq = int(input('Digite suas presenças (inteiro: '))\n",
    "ch = int(input('Digite carga horária (inteiro: '))\n",
    "print('-------------------')\n",
    "print('Padrão: média 6.0 e 75% freq. mínima')\n",
    "print('Situação: ', situacao(nota, freq, ch))\n",
    "print('-------------------')\n",
    "print('Especial: média 5.0 e 80% freq. mínima')\n",
    "print('Situação: ', situacao(nota, freq, ch, 5.0, 0.8))\n",
    "print('-------------------')"
   ]
  },
  {
   "cell_type": "markdown",
   "metadata": {},
   "source": [
    "### Parâmetros variáveis"
   ]
  },
  {
   "cell_type": "code",
   "execution_count": 19,
   "metadata": {},
   "outputs": [],
   "source": [
    "# É possível que uma função receba um número variável de parâmetros.\n",
    "# O último parâmetro, declarado com um prefixo *, indica esta opção.\n",
    "# Podem ser passados 0, 1, 2 ou tantos parâmetros quantos desejados."
   ]
  },
  {
   "cell_type": "code",
   "execution_count": 20,
   "metadata": {},
   "outputs": [],
   "source": [
    "# o parâmetro a é variável\n",
    "def mediaAritmetica(*a):\n",
    "    quant = 0\n",
    "    soma = 0\n",
    "    for v in a:\n",
    "        soma += v\n",
    "        quant += 1\n",
    "    if quant == 0: return    \n",
    "    return soma / quant  # retorna média aritmética dos argumentos"
   ]
  },
  {
   "cell_type": "code",
   "execution_count": 21,
   "metadata": {},
   "outputs": [
    {
     "name": "stdout",
     "output_type": "stream",
     "text": [
      "Media Aritmetica = None\n"
     ]
    }
   ],
   "source": [
    "print('Media Aritmetica =', mediaAritmetica())"
   ]
  },
  {
   "cell_type": "code",
   "execution_count": 22,
   "metadata": {},
   "outputs": [
    {
     "name": "stdout",
     "output_type": "stream",
     "text": [
      "Media Aritmetica = 1.0\n"
     ]
    }
   ],
   "source": [
    "print('Media Aritmetica =', mediaAritmetica(1))"
   ]
  },
  {
   "cell_type": "code",
   "execution_count": 23,
   "metadata": {},
   "outputs": [
    {
     "name": "stdout",
     "output_type": "stream",
     "text": [
      "Media Aritmetica = 1.5\n"
     ]
    }
   ],
   "source": [
    "print('Media Aritmetica =', mediaAritmetica(1, 2.0))"
   ]
  },
  {
   "cell_type": "code",
   "execution_count": 24,
   "metadata": {},
   "outputs": [
    {
     "name": "stdout",
     "output_type": "stream",
     "text": [
      "Media Aritmetica = 3.925\n"
     ]
    }
   ],
   "source": [
    "print('Media Aritmetica =', mediaAritmetica(1, 2.3, 4.6, 7.8))"
   ]
  },
  {
   "cell_type": "markdown",
   "metadata": {},
   "source": [
    "### FIM\n",
    "### <a href=\"http://github.com/pjandl/opy1\">Oficina Python Básico</a>"
   ]
  }
 ],
 "metadata": {
  "kernelspec": {
   "display_name": "Python 3",
   "language": "python",
   "name": "python3"
  },
  "language_info": {
   "codemirror_mode": {
    "name": "ipython",
    "version": 3
   },
   "file_extension": ".py",
   "mimetype": "text/x-python",
   "name": "python",
   "nbconvert_exporter": "python",
   "pygments_lexer": "ipython3",
   "version": "3.8.5"
  }
 },
 "nbformat": 4,
 "nbformat_minor": 4
}
