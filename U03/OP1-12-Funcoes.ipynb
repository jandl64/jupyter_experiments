{
 "cells": [
  {
   "cell_type": "markdown",
   "metadata": {},
   "source": [
    "# <font color='#7F0000'>Oficina Python Básico<br/>OP1-12-Funções</font>"
   ]
  },
  {
   "cell_type": "markdown",
   "metadata": {},
   "source": [
    "## Funções"
   ]
  },
  {
   "cell_type": "code",
   "execution_count": null,
   "metadata": {},
   "outputs": [],
   "source": [
    "# Uma função é um trecho de código independente, um fragmento\n",
    "# especial do programa, ou seja, um subprograma.\n",
    "# Toda função tem:\n",
    "# Um nome (seu identificador);\n",
    "# Um bloco/trecho de código (que realiza uma tarefa específica);\n",
    "# Um conjunto de parâmetros opcionais (que customizam a realização da tarefa);\n",
    "# E um resultado, opcional, (que pode ser um valor de qualquer tipo)."
   ]
  },
  {
   "cell_type": "markdown",
   "metadata": {},
   "source": [
    "### Definição"
   ]
  },
  {
   "cell_type": "markdown",
   "metadata": {},
   "source": [
    "<code><tt>def nomeDaFuncao (Lista_Param) :\n",
    "    ''' docstring - string de documentação da função. '''\n",
    "    # diretivas\n",
    "    return [valor]</tt></code>"
   ]
  },
  {
   "cell_type": "code",
   "execution_count": 1,
   "metadata": {},
   "outputs": [],
   "source": [
    "# Exemplo de função simples\n",
    "def Linha():\n",
    "    '''Imprime linha de caracteres = (igual).'''\n",
    "    print('=======================================')\n",
    "    return    # Final da função, mas SEM retorno de valor"
   ]
  },
  {
   "cell_type": "code",
   "execution_count": 5,
   "metadata": {},
   "outputs": [
    {
     "name": "stdout",
     "output_type": "stream",
     "text": [
      "=======================================\n"
     ]
    }
   ],
   "source": [
    "# Chamada de uma função emprega seu nome e um par de parênteses\n",
    "Linha()"
   ]
  },
  {
   "cell_type": "code",
   "execution_count": 11,
   "metadata": {},
   "outputs": [
    {
     "ename": "NameError",
     "evalue": "name 'linha' is not defined",
     "output_type": "error",
     "traceback": [
      "\u001b[0;31m---------------------------------------------------------------------------\u001b[0m",
      "\u001b[0;31mNameError\u001b[0m                                 Traceback (most recent call last)",
      "\u001b[0;32m<ipython-input-11-17e3b2a74f0c>\u001b[0m in \u001b[0;36m<module>\u001b[0;34m\u001b[0m\n\u001b[1;32m      1\u001b[0m \u001b[0;31m# Uso de nome incorreto ou inexistente causa erro\u001b[0m\u001b[0;34m\u001b[0m\u001b[0;34m\u001b[0m\u001b[0;34m\u001b[0m\u001b[0m\n\u001b[0;32m----> 2\u001b[0;31m \u001b[0mlinha\u001b[0m\u001b[0;34m(\u001b[0m\u001b[0;34m)\u001b[0m\u001b[0;34m\u001b[0m\u001b[0;34m\u001b[0m\u001b[0m\n\u001b[0m",
      "\u001b[0;31mNameError\u001b[0m: name 'linha' is not defined"
     ]
    }
   ],
   "source": [
    "# Uso de nome incorreto ou inexistente causa erro\n",
    "linha()"
   ]
  },
  {
   "cell_type": "code",
   "execution_count": 6,
   "metadata": {},
   "outputs": [
    {
     "name": "stdout",
     "output_type": "stream",
     "text": [
      "0.=======================================\n",
      "1.=======================================\n",
      "2.=======================================\n",
      "3.=======================================\n",
      "4.=======================================\n"
     ]
    }
   ],
   "source": [
    "# Funções podem ser acionadas várias vezes\n",
    "for i in range(0, 5):\n",
    "    print(i,\".\",sep='',end='')\n",
    "    Linha()"
   ]
  },
  {
   "cell_type": "markdown",
   "metadata": {},
   "source": [
    "### Tipos de funções"
   ]
  },
  {
   "cell_type": "code",
   "execution_count": 2,
   "metadata": {},
   "outputs": [],
   "source": [
    "# Como as funções podem ou não receber parâmetros, além de\n",
    "# poderem ou não retornar valor, temos quatro tipos de funções."
   ]
  },
  {
   "cell_type": "markdown",
   "metadata": {},
   "source": [
    "<table border='1'>\n",
    "    <tr width='50%'>\n",
    "        <td bgcolor='#93634E' width='50%'>Função <b>Produtora</b><br/>Sem parâmetros<br/>Com retorno</td>\n",
    "        <td bgcolor='#649562' width='50%'>Função <b>Típica</b><br/>Com parâmetros<br/>Com retorno</td>\n",
    "    </tr>\n",
    "    <tr width='50%'>\n",
    "        <td bgcolor='#737197'><b>Procedimento</b><br/>Sem parâmetros<br/>Sem retorno</td>\n",
    "        <td bgcolor='#908485'>Função <b>Consumidora</b><br/>Com parâmetros<br/>Sem retorno</td>\n",
    "    </tr>    "
   ]
  },
  {
   "cell_type": "markdown",
   "metadata": {},
   "source": [
    "### Procedimento"
   ]
  },
  {
   "cell_type": "code",
   "execution_count": null,
   "metadata": {},
   "outputs": [],
   "source": [
    "# Procedimento: função sem parâmetro e sem retorno de valor\n",
    "# É uma função que realiza uma tarefa e produz um efeito, mas\n",
    "# não requer parâmetros, nem retorna (devolve) um resultado"
   ]
  },
  {
   "cell_type": "code",
   "execution_count": 9,
   "metadata": {},
   "outputs": [],
   "source": [
    "def proc():\n",
    "    '''Função que mostra um procedimento.\n",
    "       Parâmetros: n/a\n",
    "       Retorno: n/a\n",
    "    '''\n",
    "    print(\"Função tipo procedimento\")\n",
    "    # Não existe return explícito então não há retorno de valor"
   ]
  },
  {
   "cell_type": "code",
   "execution_count": 10,
   "metadata": {},
   "outputs": [
    {
     "name": "stdout",
     "output_type": "stream",
     "text": [
      "Função tipo procedimento\n"
     ]
    }
   ],
   "source": [
    "# Chamada da função tipo procedimento\n",
    "# não há indicação de parâmetros, nem uso do valor de retorno.\n",
    "proc()\n",
    "# o efeito da função deve ser percebido (mensagem impressa neste caso)"
   ]
  },
  {
   "cell_type": "markdown",
   "metadata": {},
   "source": [
    "### Função típica"
   ]
  },
  {
   "cell_type": "code",
   "execution_count": null,
   "metadata": {},
   "outputs": [],
   "source": [
    "# Funções típica: com parâmetro e com retorno de valor.\n",
    "# São como as funções da matemática, que mapeiam valores entre conjuntos.\n",
    "# Um parâmetro é uma variável definida junto ao nome da função."
   ]
  },
  {
   "cell_type": "code",
   "execution_count": null,
   "metadata": {},
   "outputs": [],
   "source": [
    "def ePar(valor):\n",
    "    '''Função que determina se um número é par ou não.\n",
    "       Parâmetros: valor, número que será verificado.\n",
    "       Retorno: True, quando valor é par\n",
    "                False, quando valor é ímpar\n",
    "    '''\n",
    "# valor é um parâmetro da função ePar\n",
    "    \n",
    "    resultado = valor % 2 == 0  # testa se resto da divisão inteira por 2 é zero\n",
    "    return resultado            # retorna resultado lógico (bool) do teste"
   ]
  },
  {
   "cell_type": "code",
   "execution_count": null,
   "metadata": {},
   "outputs": [],
   "source": [
    "# Chamada da função típica\n",
    "# deve ser fornecido um argumento para cada parâmetro solicitado.\n",
    "# O valor de retorno deve ser usado numa atribuição\n",
    "resultado = ePar(23)\n",
    "print(resultado)"
   ]
  },
  {
   "cell_type": "code",
   "execution_count": null,
   "metadata": {},
   "outputs": [],
   "source": [
    "# O valor de retorno deve ser usado em uma expressão compatível\n",
    "print(ePar(12))\n",
    "\n",
    "if (ePar(12)):\n",
    "    print('12 é par!')"
   ]
  },
  {
   "cell_type": "markdown",
   "metadata": {},
   "source": [
    "### Função produtora"
   ]
  },
  {
   "cell_type": "code",
   "execution_count": null,
   "metadata": {},
   "outputs": [],
   "source": [
    "# Função produtora: não tomam parâmetros, mas retornam valor.\n",
    "# São usadas para produzir, gerar ou extrair valores. "
   ]
  },
  {
   "cell_type": "code",
   "execution_count": 1,
   "metadata": {},
   "outputs": [],
   "source": [
    "import datetime\n",
    "\n",
    "def hoje():\n",
    "    '''Função que retorna objeto datetime com data e hora atual.\n",
    "       Parâmetros: n/a\n",
    "       Retorno: objeto datetime com data e hora atual\n",
    "    '''\n",
    "    # Usa função now, da classe datetime, do módulo datetime\n",
    "    return datetime.datetime.now()"
   ]
  },
  {
   "cell_type": "code",
   "execution_count": 2,
   "metadata": {},
   "outputs": [
    {
     "name": "stdout",
     "output_type": "stream",
     "text": [
      "2021-01-06 15:05:44.600928\n",
      "2021\n",
      "1\n",
      "6\n"
     ]
    }
   ],
   "source": [
    "# Chamada da função produtora\n",
    "# Não requer argumentos, mas o valor de retorno deve ser usado numa atribuição\n",
    "h = hoje()\n",
    "print(h)\n",
    "\n",
    "# Função produtora pode ser usada diretamente em expressões\n",
    "print(hoje().year)\n",
    "print(hoje().month)\n",
    "print(hoje().day)"
   ]
  },
  {
   "cell_type": "code",
   "execution_count": 3,
   "metadata": {},
   "outputs": [],
   "source": [
    "import time\n",
    "\n",
    "def hora():\n",
    "    '''Função que retorna objeto datetime com hora atual.\n",
    "       Parâmetros: n/a\n",
    "       Retorno: objeto datetime com hora atual\n",
    "    '''\n",
    "    hora = time.localtime()\n",
    "    return hora"
   ]
  },
  {
   "cell_type": "code",
   "execution_count": 4,
   "metadata": {},
   "outputs": [
    {
     "name": "stdout",
     "output_type": "stream",
     "text": [
      "15:05:53\n"
     ]
    }
   ],
   "source": [
    "print(time.strftime(\"%H:%M:%S\", hora()))"
   ]
  },
  {
   "cell_type": "markdown",
   "metadata": {},
   "source": [
    "### Função consumidora"
   ]
  },
  {
   "cell_type": "code",
   "execution_count": 5,
   "metadata": {},
   "outputs": [],
   "source": [
    "# Função consumidora: tomam parâmetros, mas não retornam valor.\n",
    "# São usadas para salvar, configurar ou enviar valores. "
   ]
  },
  {
   "cell_type": "code",
   "execution_count": 17,
   "metadata": {},
   "outputs": [],
   "source": [
    "def log(mensagem):\n",
    "    '''Função que grava mensagem no arquivo de log padrão.\n",
    "       Parâmetros: mensagem, texto a ser gravado no arquivo de log padrão\n",
    "       Retorno: n/a\n",
    "    '''\n",
    "    arq = open(\"op1-12.log\", \"a\")\n",
    "    arq.write(str(datetime.datetime.now()))\n",
    "    arq.write(\" \")\n",
    "    arq.write(mensagem)\n",
    "    arq.write(\"\\n\")\n",
    "    arq.close()"
   ]
  },
  {
   "cell_type": "code",
   "execution_count": 31,
   "metadata": {},
   "outputs": [],
   "source": [
    "log('Teste de função consumidora')"
   ]
  },
  {
   "cell_type": "code",
   "execution_count": 32,
   "metadata": {},
   "outputs": [
    {
     "name": "stdout",
     "output_type": "stream",
     "text": [
      "2021-01-06 15:18:50.211135 Teste de função consumidora\n",
      "2021-01-06 15:19:14.524287 Teste de função consumidora\n",
      "2021-01-06 15:19:18.443603 Teste de função consumidora\n",
      "2021-01-06 15:19:38.031518 Teste de função consumidora\n",
      "2021-01-06 15:22:37.894189 Teste de função consumidora\n",
      "\n"
     ]
    }
   ],
   "source": [
    "arq = open(\"op1-12.log\", \"r\")\n",
    "print(arq.read())\n",
    "arq.close()"
   ]
  },
  {
   "cell_type": "markdown",
   "metadata": {},
   "source": [
    "### FIM\n",
    "### <a href=\"http://github.com/pjandl/opy1\">Oficina Python Básico</a>"
   ]
  }
 ],
 "metadata": {
  "kernelspec": {
   "display_name": "Python 3",
   "language": "python",
   "name": "python3"
  },
  "language_info": {
   "codemirror_mode": {
    "name": "ipython",
    "version": 3
   },
   "file_extension": ".py",
   "mimetype": "text/x-python",
   "name": "python",
   "nbconvert_exporter": "python",
   "pygments_lexer": "ipython3",
   "version": "3.8.5"
  }
 },
 "nbformat": 4,
 "nbformat_minor": 4
}
