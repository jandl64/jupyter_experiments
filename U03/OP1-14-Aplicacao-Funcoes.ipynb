{
 "cells": [
  {
   "cell_type": "markdown",
   "metadata": {},
   "source": [
    "# <font color='#7F0000'>Oficina Python Básico<br/>OP1-14-Aplicação de funções</font>"
   ]
  },
  {
   "cell_type": "markdown",
   "metadata": {},
   "source": [
    "## Funções"
   ]
  },
  {
   "cell_type": "code",
   "execution_count": null,
   "metadata": {},
   "outputs": [],
   "source": [
    "# Uma função é um trecho de código independente, um fragmento especial do\n",
    "# programa, ou seja, um subprograma, que realiza uma tarefa específica.\n",
    "# Um dos melhores usos das funções é evitar a repetição de código."
   ]
  },
  {
   "cell_type": "markdown",
   "metadata": {},
   "source": [
    "### Repetição de código"
   ]
  },
  {
   "cell_type": "code",
   "execution_count": 1,
   "metadata": {},
   "outputs": [
    {
     "name": "stdout",
     "output_type": "stream",
     "text": [
      "Digite 1a nota [0.0, 10.0]: 3\n",
      "Digite 2a nota [0.0, 10.0]: 8\n",
      "Nota1: 3.0 | Nota2: 8.0 | Media 5.50\n"
     ]
    }
   ],
   "source": [
    "# Uma faixa de valores\n",
    "MINIMO =  0.0   # valor mínimo da faixa (incluso)\n",
    "MAXIMO = 10.0   # valor máximo da faixa (incluso)\n",
    "\n",
    "# Entrada de dados\n",
    "nota1 = float(input('Digite 1a nota [0.0, 10.0]: '))\n",
    "# Validação: repete se nota1 FORA da faixa              \n",
    "while nota1 < MINIMO or nota1 > MAXIMO:\n",
    "    print('Êita! Vamos tentar novamente!')\n",
    "    nota1 = float(input('Digite 1a nota [0.0, 10.0]: '))\n",
    "# Se laço é finalizado, a nota1 ESTÁ na faixa\n",
    "\n",
    "nota2 = float(input('Digite 2a nota [0.0, 10.0]: '))\n",
    "# Validação: repete se valor FORA da faixa              \n",
    "while nota2 < MINIMO or nota2 > MAXIMO:\n",
    "    print('Êita! Vamos tentar novamente!')\n",
    "    nota2 = float(input('Digite 2a nota [0.0, 10.0]: '))\n",
    "# Se laço é finalizado, a nota2 ESTÁ na faixa\n",
    "                  \n",
    "# Saída de dados\n",
    "media = (nota1 + nota2) / 2\n",
    "print('Nota1: {:.1f} | Nota2: {:.1f} | Media {:.2f}'\n",
    "      .format(nota1, nota2, media))"
   ]
  },
  {
   "cell_type": "code",
   "execution_count": null,
   "metadata": {},
   "outputs": [],
   "source": [
    "# Repetição do código para leitura e validação de notas é inadequado.\n",
    "# Uma função permite \"concentrar\" a repetição em um único trecho."
   ]
  },
  {
   "cell_type": "code",
   "execution_count": 2,
   "metadata": {},
   "outputs": [],
   "source": [
    "def LeituraValidada():\n",
    "    nota = float(input('Digite a nota [{:.1f},{:.1f}]: '\n",
    "                            .format(MINIMO,MAXIMO)))\n",
    "    while nota < MINIMO or nota > MAXIMO:\n",
    "        print('Valor inválido! Repita por favor.')\n",
    "        nota = float(input('Digite a nota [{:.1f},{:.1f}]: '\n",
    "                            .format(MINIMO,MAXIMO)))\n",
    "    return nota     # Se laço é finalizado, retorna nota NA faixa"
   ]
  },
  {
   "cell_type": "code",
   "execution_count": 3,
   "metadata": {},
   "outputs": [],
   "source": [
    "# Programa que usa funções se torna menor"
   ]
  },
  {
   "cell_type": "code",
   "execution_count": 4,
   "metadata": {},
   "outputs": [
    {
     "name": "stdout",
     "output_type": "stream",
     "text": [
      "Digite a nota [0.0,10.0]: 3\n",
      "Digite a nota [0.0,10.0]: 8\n",
      "Nota1: 3.0 | Nota2: 8.0 | Media 5.50\n"
     ]
    }
   ],
   "source": [
    "# Entrada de dados\n",
    "nota1 = LeituraValidada()\n",
    "nota2 = LeituraValidada()\n",
    "                  \n",
    "# Saída de dados\n",
    "media = (nota1 + nota2) / 2\n",
    "print('Nota1: {:.1f} | Nota2: {:.1f} | Media {:.2f}'\n",
    "      .format(nota1, nota2, media))"
   ]
  },
  {
   "cell_type": "code",
   "execution_count": null,
   "metadata": {},
   "outputs": [],
   "source": [
    "# Programa completo requer que funções (e outros elementos requeridos)\n",
    "# sejam definidos ANTES de sua utilização."
   ]
  },
  {
   "cell_type": "code",
   "execution_count": 5,
   "metadata": {},
   "outputs": [
    {
     "name": "stdout",
     "output_type": "stream",
     "text": [
      "Digite a nota [0.0,10.0]: 6\n",
      "Digite a nota [0.0,10.0]: 7.5\n",
      "Nota1: 6.0 | Nota2: 7.5 | Media 6.75\n"
     ]
    }
   ],
   "source": [
    "MINIMO =  0.0   # valor mínimo da faixa (incluso)\n",
    "MAXIMO = 10.0   # valor máximo da faixa (incluso)\n",
    "\n",
    "def LeituraValidada():\n",
    "    ''' Efetua leitura validada na faixa [MINIMO,MAXIMO]\n",
    "        Parâmetros: n/a\n",
    "        Retorno: real dentro da faixa definida\n",
    "    '''\n",
    "    nota = float(input('Digite a nota [{:.1f},{:.1f}]: '\n",
    "                            .format(MINIMO,MAXIMO)))\n",
    "    while nota < MINIMO or nota > MAXIMO:\n",
    "        # Informa usuário sobre seu erro\n",
    "        print('Valor inválido! Repita por favor.')\n",
    "        # Repete leitura\n",
    "        nota = float(input('Digite a nota [{:.1f},{:.1f}]: '\n",
    "                            .format(MINIMO,MAXIMO)))\n",
    "    # Comando executado após laço, então nota1 ESTÁ na faixa\n",
    "    return nota     # retorno de valor (a nota)\n",
    "\n",
    "\n",
    "#\n",
    "# Programa principal\n",
    "#\n",
    "# Entrada de dados\n",
    "nota1 = LeituraValidada()\n",
    "nota2 = LeituraValidada()\n",
    "                  \n",
    "# Saída de dados\n",
    "media = (nota1 + nota2) / 2\n",
    "print('Nota1: {:.1f} | Nota2: {:.1f} | Media {:.2f}'\n",
    "      .format(nota1, nota2, media))"
   ]
  },
  {
   "cell_type": "markdown",
   "metadata": {},
   "source": [
    "### Vantagens do uso de funções"
   ]
  },
  {
   "cell_type": "code",
   "execution_count": 2,
   "metadata": {},
   "outputs": [],
   "source": [
    "# Abstração/Entendimento\n",
    "# Organização\n",
    "# Reuso\n",
    "# Facilidade para Manutenção\n",
    "# Tamanho"
   ]
  },
  {
   "cell_type": "markdown",
   "metadata": {},
   "source": [
    "## Aplicação de funções"
   ]
  },
  {
   "cell_type": "code",
   "execution_count": 14,
   "metadata": {
    "scrolled": true
   },
   "outputs": [
    {
     "name": "stdout",
     "output_type": "stream",
     "text": [
      "Lançamento de Dados\n",
      "-------------------\n",
      "dado1 : 4 \n",
      "dado2 : 3\n",
      "-------------------\n",
      "Sete! Você ganhou!\n"
     ]
    }
   ],
   "source": [
    "import random\n",
    "\n",
    "def dado():\n",
    "    ''' Propósito:        Gera um valor aleatório entre [1,6]\n",
    "        Parâmetros:       não tem\n",
    "        Valor de retorno: int\n",
    "    '''\n",
    "    numero = random.randrange(1,7)\n",
    "    return numero     # retorno de valor (numero \"obtido\" no dado)\n",
    "\n",
    "#\n",
    "# Programa principal\n",
    "#\n",
    "print('Lançamento de Dados')\n",
    "print('-------------------')\n",
    "dado1 = dado()\n",
    "dado2 = dado()\n",
    "print('dado1 :', dado1,'\\ndado2 :', dado2)\n",
    "print('-------------------')\n",
    "if dado1+dado2 == 7:\n",
    "    print('Sete! Você ganhou!')\n",
    "elif dado1+dado2 == 12:\n",
    "    print('Doze! Você está com sorte!')\n",
    "else:\n",
    "    print('Boa tentativa.')"
   ]
  },
  {
   "cell_type": "markdown",
   "metadata": {},
   "source": [
    "### FIM\n",
    "### <a href=\"http://github.com/pjandl/opy1\">Oficina Python Básico</a>"
   ]
  }
 ],
 "metadata": {
  "kernelspec": {
   "display_name": "Python 3",
   "language": "python",
   "name": "python3"
  },
  "language_info": {
   "codemirror_mode": {
    "name": "ipython",
    "version": 3
   },
   "file_extension": ".py",
   "mimetype": "text/x-python",
   "name": "python",
   "nbconvert_exporter": "python",
   "pygments_lexer": "ipython3",
   "version": "3.8.5"
  }
 },
 "nbformat": 4,
 "nbformat_minor": 4
}
