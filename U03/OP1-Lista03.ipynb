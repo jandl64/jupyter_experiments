{
 "cells": [
  {
   "cell_type": "markdown",
   "metadata": {},
   "source": [
    "# <font color='#7F0000'>Oficina Python Básico<br/>OP1-Lista Três</font>"
   ]
  },
  {
   "cell_type": "markdown",
   "metadata": {},
   "source": [
    "<h4>1.</h4>\n",
    "<p>Construa uma função Python que permita a leitura de um valor inteiro, garantindo\n",
    "que esteja numa faixa de valores limitada por um mínimo e um máximo (inclusos na\n",
    "faixa) indicada como seus argumentos.</p>\n",
    "<p>Escreva um programa que use esta função\n",
    "para ler valores entre 1 e 5.</p>"
   ]
  },
  {
   "cell_type": "code",
   "execution_count": null,
   "metadata": {},
   "outputs": [],
   "source": [
    "def leInt(min, max, msg='Digite um inteiro [{}...{}]: '):\n",
    "    ''' Lê valor inteiro na faixa indicada\n",
    "        Parâmetros:\n",
    "            min - limite inferior (incluso)\n",
    "            max - limite superior (incluso)\n",
    "            msg - mensagem para usuário (opcional)\n",
    "                  padrao 'Digite um inteiro [{}...{}]'\n",
    "        Retorno:\n",
    "            int - valor inteiro na faixa\n",
    "    '''\n",
    "    valor = int(input(msg.format(min, max)))\n",
    "    while valor<min or valor>max:\n",
    "        print('Fora da faixa!',end=' ')\n",
    "        valor = int(input(msg.format(min, max)))\n",
    "    return valor\n",
    "\n",
    "\n",
    "# Programa principal\n",
    "# Uso da função leInt\n",
    "valor1 = leInt(1, 5)\n",
    "valor2 = leInt(1, 5, 'Digite um outro inteiro entre {} e {}: ')\n",
    "\n",
    "print('Valor 1 = ', valor1)\n",
    "print('Valor 2 = ', valor2)"
   ]
  },
  {
   "cell_type": "markdown",
   "metadata": {},
   "source": [
    "<h4>2.</h4>\n",
    "<p>Construa um programa Python receba um número inteiro, determinando se o valor é\n",
    "par ou não com o uso de uma função ePar(n) que retorne False ou True.</p>"
   ]
  },
  {
   "cell_type": "code",
   "execution_count": null,
   "metadata": {},
   "outputs": [],
   "source": [
    "# Escreva sua solução aqui"
   ]
  },
  {
   "cell_type": "markdown",
   "metadata": {},
   "source": [
    "<h4>3.</h4>\n",
    "<p>Construa um programa Python receba um número inteiro, determinando se o valor é\n",
    "par ou não com o uso de uma função ePrimo(n) que retorne False ou True. Os\n",
    "números primos são aqueles que só podem ser divisíveis por 1 e por eles mesmos.</p>\n",
    "<p>Você pode considerar o número 1 como primo. Se a função receber números\n",
    "menores do que 1, deve retornar o valor None.</p>"
   ]
  },
  {
   "cell_type": "code",
   "execution_count": null,
   "metadata": {},
   "outputs": [],
   "source": [
    "# Escreva sua solução aqui"
   ]
  },
  {
   "cell_type": "markdown",
   "metadata": {},
   "source": [
    "<h4>4.</h4>\n",
    "<p>Construa um programa Python receba um número inteiro, determinando a soma de\n",
    "0 até tal número (incluso) por meio de uma função soma(n) que retorne tal soma.</p>"
   ]
  },
  {
   "cell_type": "code",
   "execution_count": null,
   "metadata": {},
   "outputs": [],
   "source": [
    "# Escreva sua solução aqui"
   ]
  },
  {
   "cell_type": "markdown",
   "metadata": {},
   "source": [
    "<h4>5.</h4>\n",
    "<p>Construa um programa que receba três números reais, considerando que estes\n",
    "valores são os coeficientes a, b e c de uma equação de 2º grau. Crie uma função\n",
    "delta(a,b,c) que calcule o delta da equação (<tt>= b² - 4*a*c</tt>).</p>\n",
    "<p>Crie outra função temRaizes(a,b,c), que receba os coeficientes e utilize a função delta(a,b,c) para determinar se equação possui raízes, retornando:</p>\n",
    "<ul><li>2, se possui duas raízes,</li>\n",
    "<li>1 se possui raízes iguais e</li>\n",
    "<li>0 se não possui raízes reais.</li></ul>\n",
    "<p>O programa deve exibir todas estas informações no console.</p>"
   ]
  },
  {
   "cell_type": "code",
   "execution_count": null,
   "metadata": {},
   "outputs": [],
   "source": [
    "# Escreva sua solução aqui"
   ]
  },
  {
   "cell_type": "markdown",
   "metadata": {},
   "source": [
    "<h4>6.</h4>\n",
    "<p>Construa uma função Python que permita a leitura de um real, garantindo que esteja\n",
    "numa faixa de valores limitada por um mínimo e um máximo (inclusos na faixa)\n",
    "indicada como seus argumentos. A função também deve receber, opcionalmente,\n",
    "um parâmetro com o número máximo de tentativas, cujo padrão é 3. Se o usuário\n",
    "não fornecer um valor correto neste número de tentativas a função deve retornar\n",
    "None. Escreva um programa que use esta função para ler valores reais entre 0 e 10\n",
    "em duas, três e quatro tentativas.</p>"
   ]
  },
  {
   "cell_type": "code",
   "execution_count": null,
   "metadata": {},
   "outputs": [],
   "source": [
    "# Escreva sua solução aqui"
   ]
  },
  {
   "cell_type": "markdown",
   "metadata": {},
   "source": [
    "<h4>7.</h4>\n",
    "<p>Escreva um programa que leia um número inteiro (na base 10) convertendo-o para\n",
    "seu equivalente em binário (base 2) por meio de uma função dec2bin(n).<p>"
   ]
  },
  {
   "cell_type": "code",
   "execution_count": null,
   "metadata": {},
   "outputs": [],
   "source": [
    "# Escreva sua solução aqui"
   ]
  },
  {
   "cell_type": "markdown",
   "metadata": {},
   "source": [
    "<h4>8.</h4>\n",
    "<p>Escreva um programa que receba uma cadeia de caracteres (string), determinando a\n",
    "quantidade de um caractere especificado pelo usuário nesta cadeia com uso de uma\n",
    "função a ser construída. Esta função, que deve ser denominada\n",
    "contaCaracteres(cadeia,caractere), retorna 0 se o caractere não foi informado ou\n",
    "um inteiro com a contagem das ocorrências do caracteres na string.</p>"
   ]
  },
  {
   "cell_type": "code",
   "execution_count": 2,
   "metadata": {},
   "outputs": [],
   "source": [
    "def contaCaracteres(cadeia, caractere):\n",
    "    ''' Conta o número de ocorrências do caractere na cadeia.\n",
    "        Parâmetros:\n",
    "            cadeia - a cadeia para a qual serão contados os caracteres\n",
    "            caractere - o caracteres que será contado na cadeia\n",
    "        Retorno: inteiro com o número de ocorrências do caractere na cadeia\n",
    "    '''\n",
    "    ocorrencias = 0\n",
    "\n",
    "    \n",
    "    return ocorrencias\n",
    "\n",
    "\n",
    "# Programa principal\n"
   ]
  },
  {
   "cell_type": "markdown",
   "metadata": {},
   "source": [
    "### FIM\n",
    "### <a href=\"http://github.com/pjandl/opy1\">Oficina Python Básico</a>"
   ]
  }
 ],
 "metadata": {
  "kernelspec": {
   "display_name": "Python 3",
   "language": "python",
   "name": "python3"
  },
  "language_info": {
   "codemirror_mode": {
    "name": "ipython",
    "version": 3
   },
   "file_extension": ".py",
   "mimetype": "text/x-python",
   "name": "python",
   "nbconvert_exporter": "python",
   "pygments_lexer": "ipython3",
   "version": "3.8.5"
  }
 },
 "nbformat": 4,
 "nbformat_minor": 4
}
