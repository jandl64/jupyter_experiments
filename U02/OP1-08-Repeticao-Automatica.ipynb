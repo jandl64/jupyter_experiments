{
 "cells": [
  {
   "cell_type": "markdown",
   "metadata": {},
   "source": [
    "# <font color='#7F0000'>Oficina Python Básico<br/>OP1-08-Repetição automática</font>"
   ]
  },
  {
   "cell_type": "code",
   "execution_count": 2,
   "metadata": {},
   "outputs": [],
   "source": [
    "# Diretiva da linguagem que permite a repetição de um\n",
    "# ou mais comandos.\n",
    "# Na repetição automática, uma variável assume todos os\n",
    "# valores de uma lista, um de cada vez, do início ao\n",
    "# final da lista."
   ]
  },
  {
   "cell_type": "markdown",
   "metadata": {},
   "source": [
    "<img src=\"repeticao-automatica.png\"/>"
   ]
  },
  {
   "cell_type": "code",
   "execution_count": 3,
   "metadata": {},
   "outputs": [
    {
     "name": "stdout",
     "output_type": "stream",
     "text": [
      "0\n",
      "1\n",
      "2\n",
      "3\n",
      "4\n",
      "5\n",
      "6\n",
      "7\n",
      "8\n",
      "9\n"
     ]
    }
   ],
   "source": [
    "# contador simples com repetição automática\n",
    "# variável de controle é definida na própria diretiva\n",
    "for i in range(0,10):     # dois-pontos é obrigatório\n",
    "    print(i)              # comando associado (observe a indentação)\n",
    "                          # controle da repetição é automático\n",
    "# a função embutida range gera uma lista de valores"
   ]
  },
  {
   "cell_type": "code",
   "execution_count": 4,
   "metadata": {},
   "outputs": [],
   "source": [
    "# Sintaxe da função range\n",
    "# range(ini, fim, passo)\n",
    "# ini é valor inicial (incluso)\n",
    "# fim é valor final (NÃO incluso)\n",
    "# passo é o incremento/decremento usado\n",
    "\n",
    "# range é fácil de usar, mas requer atenção por\n",
    "# conta do valor final efetivamente desejado!"
   ]
  },
  {
   "cell_type": "code",
   "execution_count": 5,
   "metadata": {},
   "outputs": [
    {
     "data": {
      "text/plain": [
       "range"
      ]
     },
     "execution_count": 5,
     "metadata": {},
     "output_type": "execute_result"
    }
   ],
   "source": [
    "# Tipo de um range é ... range\n",
    "type(range(0,10))"
   ]
  },
  {
   "cell_type": "code",
   "execution_count": 6,
   "metadata": {},
   "outputs": [
    {
     "data": {
      "text/plain": [
       "[0, 1, 2, 3, 4, 5, 6, 7, 8, 9]"
      ]
     },
     "execution_count": 6,
     "metadata": {},
     "output_type": "execute_result"
    }
   ],
   "source": [
    "# lista com os valores de um range\n",
    "list(range(0, 10, 1))"
   ]
  },
  {
   "cell_type": "code",
   "execution_count": 7,
   "metadata": {},
   "outputs": [
    {
     "data": {
      "text/plain": [
       "[3, 10, 17]"
      ]
     },
     "execution_count": 7,
     "metadata": {},
     "output_type": "execute_result"
    }
   ],
   "source": [
    "# Experimente outros valores de ini, fim e passo!\n",
    "list(range(3, 21, 7))"
   ]
  },
  {
   "cell_type": "code",
   "execution_count": 8,
   "metadata": {},
   "outputs": [],
   "source": [
    "# A indentação padrão utiliza 4 espaços em branco.\n",
    "# Com a indentação se define um bloco de comandos associado à repetição."
   ]
  },
  {
   "cell_type": "code",
   "execution_count": 9,
   "metadata": {},
   "outputs": [
    {
     "ename": "IndentationError",
     "evalue": "expected an indented block (<ipython-input-9-b9574f0224fa>, line 3)",
     "output_type": "error",
     "traceback": [
      "\u001b[0;36m  File \u001b[0;32m\"<ipython-input-9-b9574f0224fa>\"\u001b[0;36m, line \u001b[0;32m3\u001b[0m\n\u001b[0;31m    print(i)         # comando associado (sem indentação teremos um erro)\u001b[0m\n\u001b[0m    ^\u001b[0m\n\u001b[0;31mIndentationError\u001b[0m\u001b[0;31m:\u001b[0m expected an indented block\n"
     ]
    }
   ],
   "source": [
    "# comandos não indentados em um laço produzem um erro!\n",
    "for x in range(0, 7):     # dois-pontos é obrigatório\n",
    "print(i)         # comando associado (sem indentação teremos um erro)"
   ]
  },
  {
   "cell_type": "code",
   "execution_count": 10,
   "metadata": {},
   "outputs": [
    {
     "ename": "SyntaxError",
     "evalue": "invalid syntax (<ipython-input-10-8ed440f2eafc>, line 2)",
     "output_type": "error",
     "traceback": [
      "\u001b[0;36m  File \u001b[0;32m\"<ipython-input-10-8ed440f2eafc>\"\u001b[0;36m, line \u001b[0;32m2\u001b[0m\n\u001b[0;31m    for x in range(0, 7)     # dois-pontos OMITIDO aqui é obrigatório\u001b[0m\n\u001b[0m                             ^\u001b[0m\n\u001b[0;31mSyntaxError\u001b[0m\u001b[0;31m:\u001b[0m invalid syntax\n"
     ]
    }
   ],
   "source": [
    "# a omissão dos dois pontos também causa um erro!\n",
    "for x in range(0, 7)     # dois-pontos OMITIDO aqui é obrigatório\n",
    "    print(i)             # comando associado com indentação correta"
   ]
  },
  {
   "cell_type": "code",
   "execution_count": 11,
   "metadata": {},
   "outputs": [
    {
     "name": "stdout",
     "output_type": "stream",
     "text": [
      "10\n",
      "8\n",
      "6\n",
      "4\n",
      "2\n"
     ]
    }
   ],
   "source": [
    "# Contador regressivo com repetição automática\n",
    "inicio = 10         # valor inicial é dez\n",
    "final  =  0         # valor final é zero\n",
    "passo  = -2         # valor do passo é negativo (contagem regressiva)\n",
    "\n",
    "# função range parametrizada com as variáveis acima\n",
    "for i in range(inicio, final, passo):\n",
    "    print(i)        # comando a ser repetido\n",
    "                    # para TODOS os valores da sequência"
   ]
  },
  {
   "cell_type": "code",
   "execution_count": 12,
   "metadata": {},
   "outputs": [
    {
     "name": "stdout",
     "output_type": "stream",
     "text": [
      "10\n",
      "8\n",
      "6\n",
      "4\n",
      "2\n",
      "0\n"
     ]
    }
   ],
   "source": [
    "# Contador regressivo com repetição automática\n",
    "inicio = 10         # valor inicial é dez\n",
    "final  =  0         # valor final é zero\n",
    "passo  = -2         # valor do passo é negativo (contagem regressiva)\n",
    "\n",
    "# função range parametrizada com as variáveis acima\n",
    "# final-1 inclui o valor final (numa contagem regressiva)\n",
    "for i in range(inicio, final-1, passo):\n",
    "    print(i)        # comando a ser repetido\n",
    "                    # para TODOS os valores da sequência"
   ]
  },
  {
   "cell_type": "code",
   "execution_count": 13,
   "metadata": {},
   "outputs": [
    {
     "name": "stdout",
     "output_type": "stream",
     "text": [
      "Valor inteiro inicial da contagem: 3\n",
      "Valor inteiro final (> inicio) da contagem: -3\n",
      "Valor inteiro do passo da contagem: -2\n",
      "início\n",
      "| 3\n",
      "| 1\n",
      "| -1\n",
      "fim\n",
      "Soma =  3\n"
     ]
    }
   ],
   "source": [
    "# Contador genérico com repetição automática\n",
    "\n",
    "# Entrada de dados\n",
    "inicio = int(input('Valor inteiro inicial da contagem: '))\n",
    "final = int(input('Valor inteiro final (> inicio) da contagem: '))\n",
    "passo = int(input('Valor inteiro do passo da contagem: '))\n",
    "\n",
    "# processamento de dados\n",
    "print('início')\n",
    "soma = 0    # variável para acumulação dos valores da contagem\n",
    "# função range parametrizada com as variáveis acima\n",
    "for i in range(inicio, final, passo):\n",
    "    print('|', i)   # comando a ser repetido\n",
    "    soma += i       # o mesmo que soma = soma + i\n",
    "\n",
    "# saída de dados\n",
    "print('fim')\n",
    "print('Soma = ', soma)"
   ]
  },
  {
   "cell_type": "markdown",
   "metadata": {},
   "source": [
    "## Repetição automática com listas pré-definidas"
   ]
  },
  {
   "cell_type": "code",
   "execution_count": null,
   "metadata": {},
   "outputs": [],
   "source": [
    "# A diretiva for requer uma sequência de valores, de qualquer tipo.\n",
    "# Permite assim o uso de:\n",
    "# range\n",
    "# lista\n",
    "# string\n",
    "# e outros"
   ]
  },
  {
   "cell_type": "code",
   "execution_count": 15,
   "metadata": {},
   "outputs": [
    {
     "name": "stdout",
     "output_type": "stream",
     "text": [
      "Primo: 2\n",
      "Primo: 3\n",
      "Primo: 5\n",
      "Primo: 7\n",
      "Primo: 11\n",
      "Primo: 13\n",
      "Primo: 17\n",
      "Primo: 19\n",
      "Primo: 23\n"
     ]
    }
   ],
   "source": [
    "# Lista de primos\n",
    "for x in [2, 3, 5, 7, 11, 13, 17, 19, 23]:\n",
    "    print(\"Primo:\", x)"
   ]
  },
  {
   "cell_type": "code",
   "execution_count": 16,
   "metadata": {},
   "outputs": [
    {
     "name": "stdout",
     "output_type": "stream",
     "text": [
      "Peter Jandl\n",
      "Peter Potamus\n",
      "Peter Pan\n",
      "Peter Seller\n",
      "Peter Fonda\n"
     ]
    }
   ],
   "source": [
    "# Lista de sobrenomes\n",
    "for sobrenome in [\"Jandl\", \"Potamus\", \"Pan\", \"Seller\", \"Fonda\"]:\n",
    "    print(\"Peter\", sobrenome)"
   ]
  },
  {
   "cell_type": "code",
   "execution_count": 18,
   "metadata": {},
   "outputs": [
    {
     "name": "stdout",
     "output_type": "stream",
     "text": [
      "O\n",
      "f\n",
      "i\n",
      "c\n",
      "i\n",
      "n\n",
      "a\n",
      " \n",
      "P\n",
      "y\n",
      "t\n",
      "h\n",
      "o\n",
      "n\n"
     ]
    }
   ],
   "source": [
    "# Caracteres de uma string\n",
    "for c in \"Oficina Python\":\n",
    "    print(c)"
   ]
  },
  {
   "cell_type": "markdown",
   "metadata": {},
   "source": [
    "### FIM\n",
    "### <a href=\"http://github.com/pjandl/opy1\">Oficina Python Básico</a>"
   ]
  }
 ],
 "metadata": {
  "kernelspec": {
   "display_name": "Python 3",
   "language": "python",
   "name": "python3"
  },
  "language_info": {
   "codemirror_mode": {
    "name": "ipython",
    "version": 3
   },
   "file_extension": ".py",
   "mimetype": "text/x-python",
   "name": "python",
   "nbconvert_exporter": "python",
   "pygments_lexer": "ipython3",
   "version": "3.8.5"
  }
 },
 "nbformat": 4,
 "nbformat_minor": 4
}
