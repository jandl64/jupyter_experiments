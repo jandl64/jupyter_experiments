{
 "cells": [
  {
   "cell_type": "markdown",
   "metadata": {},
   "source": [
    "# <font color='#7F0000'>Oficina Python Básico<br/>OP1-11-Aplicações de decisão</font>"
   ]
  },
  {
   "cell_type": "markdown",
   "metadata": {},
   "source": [
    "## Decisão simples"
   ]
  },
  {
   "cell_type": "code",
   "execution_count": null,
   "metadata": {},
   "outputs": [],
   "source": [
    "# Uso de decisão permite que um mesmo programa realizar\n",
    "# operações diferentes."
   ]
  },
  {
   "cell_type": "code",
   "execution_count": 4,
   "metadata": {},
   "outputs": [
    {
     "name": "stdout",
     "output_type": "stream",
     "text": [
      "Digite um inteiro a: 1\n",
      "Digite um inteiro b: 3\n",
      "Digite um inteiro c: 5\n"
     ]
    }
   ],
   "source": [
    "# Testa se três inteiros formam uma progressão aritmética ou geométrica\n",
    "a = float(input('Digite um inteiro a: '))\n",
    "b = float(input('Digite um inteiro b: '))\n",
    "c = float(input('Digite um inteiro c: '))"
   ]
  },
  {
   "cell_type": "code",
   "execution_count": 5,
   "metadata": {},
   "outputs": [
    {
     "name": "stdout",
     "output_type": "stream",
     "text": [
      "a, b e c formam uma Progressão Aritmética de razão 2.00.\n"
     ]
    }
   ],
   "source": [
    "# se a distância/diferença entre a e b é a mesma que entre b e c,\n",
    "# temos um PA (progressão aritmética)\n",
    "if b-a == c-b:\n",
    "    print('a, b e c formam uma Progressão Aritmética de razão {:.2f}.'\n",
    "          .format(b-a))\n",
    "else:\n",
    "    print('a, b e c NÃO formam uma Progressão Aritmética.')"
   ]
  },
  {
   "cell_type": "code",
   "execution_count": 6,
   "metadata": {},
   "outputs": [
    {
     "name": "stdout",
     "output_type": "stream",
     "text": [
      "a, b e c NÃO formam uma Progressão Geométrica.\n"
     ]
    }
   ],
   "source": [
    "# Apenas se a e b são diferentes de valor zero é possível\n",
    "# testar uma progressão geométrica\n",
    "if a!=0 and b!=0:\n",
    "    # se a proporção/razao entre a e b é a mesma que entre b e c,\n",
    "    # temos um PG (progressão geométrica)\n",
    "    if b/a == c/b:\n",
    "        print('a, b e c formam uma Progressão Geométrica de razão {:f}.'\n",
    "            .format(b/a))\n",
    "    else:\n",
    "        print('a, b e c NÃO formam uma Progressão Geométrica.')"
   ]
  },
  {
   "cell_type": "markdown",
   "metadata": {},
   "source": [
    "## Decisão encadeada"
   ]
  },
  {
   "cell_type": "code",
   "execution_count": 2,
   "metadata": {},
   "outputs": [],
   "source": [
    "# A decisão encadeada permite combinar duas ou mais\n",
    "# decisões completas de maneira a determinar 3, 4 ou mais\n",
    "# possibilidades distintas. É composta por if/elif/else."
   ]
  },
  {
   "cell_type": "code",
   "execution_count": 1,
   "metadata": {},
   "outputs": [
    {
     "name": "stdout",
     "output_type": "stream",
     "text": [
      "Digite um número real? 3\n"
     ]
    }
   ],
   "source": [
    "# Entrada de um valor numérico real\n",
    "numero = float(input('Digite um número real? '))"
   ]
  },
  {
   "cell_type": "code",
   "execution_count": 3,
   "metadata": {},
   "outputs": [
    {
     "name": "stdout",
     "output_type": "stream",
     "text": [
      "Número entre 1 e 10\n"
     ]
    }
   ],
   "source": [
    "# primeira condição\n",
    "if numero > 10:\n",
    "    print(\"Número maior do que 10\")\n",
    "elif numero > 0:\n",
    "    print(\"Número entre 1 e 10\")\n",
    "else:\n",
    "    print(\"Número é zero ou negativo\")"
   ]
  },
  {
   "cell_type": "markdown",
   "metadata": {},
   "source": [
    "## Decisão completa"
   ]
  },
  {
   "cell_type": "code",
   "execution_count": null,
   "metadata": {},
   "outputs": [],
   "source": [
    "# O jogo de adivinhação pode ser melhorado com uso\n",
    "# da decisão encadeada."
   ]
  },
  {
   "cell_type": "code",
   "execution_count": 7,
   "metadata": {},
   "outputs": [],
   "source": [
    "# Importação de módulo\n",
    "import random"
   ]
  },
  {
   "cell_type": "code",
   "execution_count": 8,
   "metadata": {},
   "outputs": [],
   "source": [
    "# Sorteia um inteiro entre 0 e 100\n",
    "numeroSecreto = random.randrange(0, 101)"
   ]
  },
  {
   "cell_type": "code",
   "execution_count": 9,
   "metadata": {},
   "outputs": [],
   "source": [
    "numero = -1     # Inicializa número com valor inválido (fora da faixa)\n",
    "tentativas = 0  # Contador de tentativas"
   ]
  },
  {
   "cell_type": "code",
   "execution_count": 10,
   "metadata": {},
   "outputs": [
    {
     "name": "stdout",
     "output_type": "stream",
     "text": [
      "Seu palpite? 3\n",
      "Baixo...\n",
      "Seu palpite? 50\n",
      "Baixo...\n",
      "Seu palpite? 70\n",
      "Alto...\n",
      "Seu palpite? 60\n",
      "Alto...\n",
      "Seu palpite? 55\n",
      "Alto...\n",
      "Seu palpite? 53\n",
      "Você acertou!!!\n"
     ]
    }
   ],
   "source": [
    "# Laço de repetição para entrada e avaliação dos palpites\n",
    "while numero != numeroSecreto:\n",
    "    # Lê palpite/tentativa do usuário\n",
    "    numero = int(input('Seu palpite? '))\n",
    "    tentativas += 1     # incrementa contador de tentativas\n",
    "    # Verifica o palpite\n",
    "    if numero < numeroSecreto:\n",
    "        print('Baixo...')\n",
    "    elif numero > numeroSecreto:\n",
    "        print('Alto...')\n",
    "    else:\n",
    "        print('Você acertou!!!')"
   ]
  },
  {
   "cell_type": "markdown",
   "metadata": {},
   "source": [
    "### FIM\n",
    "### <a href=\"http://github.com/pjandl/opy1\">Oficina Python Básico</a>"
   ]
  }
 ],
 "metadata": {
  "kernelspec": {
   "display_name": "Python 3",
   "language": "python",
   "name": "python3"
  },
  "language_info": {
   "codemirror_mode": {
    "name": "ipython",
    "version": 3
   },
   "file_extension": ".py",
   "mimetype": "text/x-python",
   "name": "python",
   "nbconvert_exporter": "python",
   "pygments_lexer": "ipython3",
   "version": "3.8.5"
  }
 },
 "nbformat": 4,
 "nbformat_minor": 4
}
