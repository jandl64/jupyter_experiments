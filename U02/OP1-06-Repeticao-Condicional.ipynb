{
 "cells": [
  {
   "cell_type": "markdown",
   "metadata": {},
   "source": [
    "# <font color='#7F0000'>Oficina Python Básico<br/>OP1-06-Repetição condicional</font>"
   ]
  },
  {
   "cell_type": "code",
   "execution_count": null,
   "metadata": {},
   "outputs": [],
   "source": [
    "# Diretiva da linguagem que permite a repetição de um\n",
    "# ou mais comandos (bloco).\n",
    "# Na repetição condicional, uma expressão de tipo lógico\n",
    "# é avaliada para determinar se os comandos associados\n",
    "# serão repetidos ou não."
   ]
  },
  {
   "cell_type": "markdown",
   "metadata": {},
   "source": [
    "<img src=\"repeticao-condicional.png\"/>"
   ]
  },
  {
   "cell_type": "code",
   "execution_count": 6,
   "metadata": {},
   "outputs": [
    {
     "name": "stdout",
     "output_type": "stream",
     "text": [
      "0\n",
      "1\n",
      "2\n",
      "3\n",
      "4\n"
     ]
    }
   ],
   "source": [
    "# variável inteira (que servirá como contador)\n",
    "i = 0\n",
    "# comando de repetição while\n",
    "# expressão condicional é i < 5\n",
    "while i < 5:     # dois-pontos é obrigatório\n",
    "    print(i)     # comandos associados (observe a indentação do bloco)\n",
    "    i = i + 1    # controle da repetição: modifica a expressão condicional\n",
    "# while executa os comandos ENQUANTO a condição é verdadeira/True.    "
   ]
  },
  {
   "cell_type": "code",
   "execution_count": 25,
   "metadata": {},
   "outputs": [
    {
     "ename": "SyntaxError",
     "evalue": "invalid syntax (<ipython-input-25-6096918bbde4>, line 5)",
     "output_type": "error",
     "traceback": [
      "\u001b[0;36m  File \u001b[0;32m\"<ipython-input-25-6096918bbde4>\"\u001b[0;36m, line \u001b[0;32m5\u001b[0m\n\u001b[0;31m    while i < 5     # dois-pontos obrigatório foi ESQUECIDO\u001b[0m\n\u001b[0m                    ^\u001b[0m\n\u001b[0;31mSyntaxError\u001b[0m\u001b[0;31m:\u001b[0m invalid syntax\n"
     ]
    }
   ],
   "source": [
    "# variável inteira (que servirá como contador)\n",
    "i = 0\n",
    "# comando de repetição while\n",
    "# expressão condicional é i < 5\n",
    "while i < 5     # dois-pontos obrigatório foi ESQUECIDO\n",
    "    print(i)     # comando associados (observe a indentação do bloco)\n",
    "    i = i + 1    # controle da repetição: modifica a expressão condicional"
   ]
  },
  {
   "cell_type": "code",
   "execution_count": null,
   "metadata": {},
   "outputs": [],
   "source": [
    "# A indentação padrão utiliza 4 espaços em branco.\n",
    "# Com a indentação se define um bloco de comandos associado à repetição."
   ]
  },
  {
   "cell_type": "code",
   "execution_count": 1,
   "metadata": {},
   "outputs": [
    {
     "ename": "IndentationError",
     "evalue": "expected an indented block (<ipython-input-1-5002ce8df93a>, line 6)",
     "output_type": "error",
     "traceback": [
      "\u001b[0;36m  File \u001b[0;32m\"<ipython-input-1-5002ce8df93a>\"\u001b[0;36m, line \u001b[0;32m6\u001b[0m\n\u001b[0;31m    print(i)         # comando associado (sem indentação teremos um erro)\u001b[0m\n\u001b[0m    ^\u001b[0m\n\u001b[0;31mIndentationError\u001b[0m\u001b[0;31m:\u001b[0m expected an indented block\n"
     ]
    }
   ],
   "source": [
    "# variável inteira (que servirá como contador)\n",
    "i = 0\n",
    "# comando de repetição while\n",
    "# expressão condicional é i < 5\n",
    "while i < 5:     # dois-pontos é obrigatório\n",
    "print(i)         # comando associado (sem indentação teremos um erro)\n",
    "i = i + 1        # controle da repetição: modifica a expressão condicional"
   ]
  },
  {
   "cell_type": "code",
   "execution_count": 19,
   "metadata": {},
   "outputs": [
    {
     "name": "stdout",
     "output_type": "stream",
     "text": [
      "10\n",
      "8\n",
      "6\n",
      "4\n",
      "2\n",
      "0\n",
      "x após laço = -2\n"
     ]
    }
   ],
   "source": [
    "# variável inteira (que servirá como contador)\n",
    "x = 10\n",
    "# comando de repetição while\n",
    "# expressão condicional é x > 10\n",
    "while x >= 0:     # dois-pontos é obrigatório\n",
    "    print(x)     # comando associado, com indentação correta\n",
    "    x = x - 2    # controle da repetição: modifica a expressão condicional\n",
    "# while executa os comandos ENQUANTO a condição é verdadeira/True.\n",
    "\n",
    "# Comando sem indentação está FORA do bloco do laço\n",
    "print(\"x após laço =\", x)"
   ]
  },
  {
   "cell_type": "code",
   "execution_count": 20,
   "metadata": {},
   "outputs": [
    {
     "name": "stdout",
     "output_type": "stream",
     "text": [
      "x =  -2\n"
     ]
    }
   ],
   "source": [
    "# comando de repetição while\n",
    "# expressão condicional é x > 10\n",
    "print(\"x = \", x)\n",
    "while x >= 0:    # dois-pontos é obrigatório\n",
    "    print(x)     # comando associado, com indentação correta\n",
    "    x = x - 2\n",
    "# Se a condição é falsa/False inicialmente, o while não executa os comandos."
   ]
  },
  {
   "cell_type": "markdown",
   "metadata": {},
   "source": [
    "## Contadores"
   ]
  },
  {
   "cell_type": "code",
   "execution_count": 21,
   "metadata": {},
   "outputs": [],
   "source": [
    "# Contadores são frequentemente utilizados nos programas,\n",
    "# para muitas finalidades diferentes.\n",
    "# Todo contador envolve definir:\n",
    "# um valor inicial para contagem\n",
    "# um valor final para contagem\n",
    "# um passo (incremento ou decremento) para contagem\n",
    "# e um valor atual."
   ]
  },
  {
   "cell_type": "code",
   "execution_count": 23,
   "metadata": {},
   "outputs": [
    {
     "name": "stdout",
     "output_type": "stream",
     "text": [
      "valor = 5\n",
      "valor = 8\n",
      "valor = 11\n",
      "valor após laço = 14\n"
     ]
    }
   ],
   "source": [
    "# Elementos de um contador\n",
    "inicio = 5\n",
    "fim = 12\n",
    "passo = 3\n",
    "\n",
    "# laço de repetição\n",
    "valor = inicio\n",
    "while valor < fim:\n",
    "    print(\"valor =\", valor)\n",
    "    valor += passo\n",
    "\n",
    "# Comando sem indentação está FORA do bloco do laço\n",
    "print(\"valor após laço =\", valor)"
   ]
  },
  {
   "cell_type": "code",
   "execution_count": 24,
   "metadata": {},
   "outputs": [
    {
     "name": "stdout",
     "output_type": "stream",
     "text": [
      "Início? 3\n",
      "Fim? 13\n",
      "Passo? 2\n",
      "valor = 3\n",
      "valor = 5\n",
      "valor = 7\n",
      "valor = 9\n",
      "valor = 11\n",
      "valor após laço = 13\n"
     ]
    }
   ],
   "source": [
    "# Elementos de um contador definidos pelo usuário\n",
    "inicio = int(input(\"Início? \"))\n",
    "fim = int(input(\"Fim? \"))\n",
    "passo = int(input(\"Passo? \"))\n",
    "\n",
    "# laço de repetição\n",
    "valor = inicio\n",
    "while valor < fim:\n",
    "    print(\"valor =\", valor)\n",
    "    valor += passo\n",
    "\n",
    "# Comando sem indentação está FORA do bloco do laço\n",
    "print(\"valor após laço =\", valor)"
   ]
  },
  {
   "cell_type": "markdown",
   "metadata": {},
   "source": [
    "### FIM\n",
    "### <a href=\"http://github.com/pjandl/opy1\">Oficina Python Básico</a>"
   ]
  }
 ],
 "metadata": {
  "kernelspec": {
   "display_name": "Python 3",
   "language": "python",
   "name": "python3"
  },
  "language_info": {
   "codemirror_mode": {
    "name": "ipython",
    "version": 3
   },
   "file_extension": ".py",
   "mimetype": "text/x-python",
   "name": "python",
   "nbconvert_exporter": "python",
   "pygments_lexer": "ipython3",
   "version": "3.8.5"
  }
 },
 "nbformat": 4,
 "nbformat_minor": 4
}
