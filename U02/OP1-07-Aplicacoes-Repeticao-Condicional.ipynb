{
 "cells": [
  {
   "cell_type": "markdown",
   "metadata": {},
   "source": [
    "# <font color='#7F0000'>Oficina Python Básico<br/>OP1-07-Aplicações da repetição condicional</font>"
   ]
  },
  {
   "cell_type": "code",
   "execution_count": 1,
   "metadata": {},
   "outputs": [],
   "source": [
    "# Repetição condicional pode ser utilizada para:\n",
    "# contagem\n",
    "# validação\n",
    "# agregação\n",
    "# indexação"
   ]
  },
  {
   "cell_type": "markdown",
   "metadata": {},
   "source": [
    "## Contagem"
   ]
  },
  {
   "cell_type": "code",
   "execution_count": 2,
   "metadata": {},
   "outputs": [
    {
     "name": "stdout",
     "output_type": "stream",
     "text": [
      "0\n",
      "2\n",
      "4\n",
      "6\n",
      "8\n",
      "10\n"
     ]
    }
   ],
   "source": [
    "# variável inteira (que servirá como contador)\n",
    "x = 0\n",
    "# comando de repetição while\n",
    "# expressão condicional é x <= 10\n",
    "while x <= 10:   # dois-pontos é obrigatório\n",
    "    print(x)     # comando associado (observe a indentação)\n",
    "    x += 2       # controle da repetição: modifica a expressão condicional\n",
    "# while executa os comandos ENQUANTO a condição é verdadeira/True.    "
   ]
  },
  {
   "cell_type": "markdown",
   "metadata": {},
   "source": [
    "## Validação"
   ]
  },
  {
   "cell_type": "code",
   "execution_count": 3,
   "metadata": {},
   "outputs": [],
   "source": [
    "# Repetição pode ser usada para validar a entrada de dados.\n",
    "# A operação de entrada pode ser repetida enquanto inválida."
   ]
  },
  {
   "cell_type": "code",
   "execution_count": 8,
   "metadata": {},
   "outputs": [
    {
     "name": "stdout",
     "output_type": "stream",
     "text": [
      "Digite um valor entre 0 e 5? -1\n",
      "Valor invalido! Tente outra vez.\n",
      "Digite um valor entre 0 e 5? -2\n",
      "Valor invalido! Tente outra vez.\n",
      "Digite um valor entre 0 e 5? 3\n",
      "Valor =  3\n"
     ]
    }
   ],
   "source": [
    "# Entrada de dados\n",
    "valor = int(input(\"Digite um valor entre 1 e 5? \"))\n",
    "\n",
    "# Validação\n",
    "while valor < 1 or valor > 5:\n",
    "    # Informe usuário sobre seu erro\n",
    "    print(\"Valor invalido! Tente outra vez.\")\n",
    "    # Repete entrada de dados\n",
    "    valor = int(input(\"Digite um valor entre 1 e 5? \"))\n",
    "    \n",
    "# Quando sai do laço, foi realizada um entrada válida\n",
    "print(\"Valor = \", valor)"
   ]
  },
  {
   "cell_type": "code",
   "execution_count": 15,
   "metadata": {},
   "outputs": [],
   "source": [
    "# Boa prática: use constantes para definir a faixa de valores\n",
    "# válidos para entrada, facilitando a manutenção.\n",
    "MIN = 1 # valor mínimo (inferior)\n",
    "MAX = 5 # valor máximo (superior)"
   ]
  },
  {
   "cell_type": "code",
   "execution_count": 16,
   "metadata": {},
   "outputs": [
    {
     "name": "stdout",
     "output_type": "stream",
     "text": [
      "Digite um valor entre 1 e 5? 0\n",
      "Valor invalido! Tente outra vez.\n",
      "Digite um valor entre 1 e 5? 0\n",
      "Valor invalido! Tente outra vez.\n",
      "Digite um valor entre 1 e 5? -1\n",
      "Valor invalido! Tente outra vez.\n",
      "Digite um valor entre 1 e 5? 6\n",
      "Valor invalido! Tente outra vez.\n",
      "Digite um valor entre 1 e 5? 4\n",
      "Valor =  4\n"
     ]
    }
   ],
   "source": [
    "# Entrada de dados\n",
    "valor = int(input(\"Digite um valor entre {:d} e {:d}? \".format(MIN,MAX)))\n",
    "# Validação\n",
    "while valor < MIN or valor > MAX:\n",
    "    # Informe usuário sobre seu erro\n",
    "    print(\"Valor invalido! Tente outra vez.\")\n",
    "    # Repete entrada de dados\n",
    "    valor = int(input(\"Digite um valor entre {:d} e {:d}? \".format(MIN,MAX)))\n",
    "    \n",
    "# Quando sai do laço, foi realizada um entrada válida\n",
    "print(\"Valor = \", valor)"
   ]
  },
  {
   "cell_type": "markdown",
   "metadata": {},
   "source": [
    "## Acumulação"
   ]
  },
  {
   "cell_type": "code",
   "execution_count": 17,
   "metadata": {},
   "outputs": [],
   "source": [
    "# Uso de repetição permite a acumulação de valores\n",
    "# fornecidos pelo usuário, calculados ou obtidos por outros meios."
   ]
  },
  {
   "cell_type": "code",
   "execution_count": 4,
   "metadata": {},
   "outputs": [
    {
     "name": "stdout",
     "output_type": "stream",
     "text": [
      "Soma =  55\n"
     ]
    }
   ],
   "source": [
    "# Acumulação simples\n",
    "soma = 0 # variável para acumulação\n",
    "i = 1             # valor inicial da repetição\n",
    "N = 10   # valor final da repetição\n",
    "\n",
    "# Laço de repetição para somar inteiros 1 até N\n",
    "while i <= N:\n",
    "    # acumulação\n",
    "    soma += i    # o mesmo que soma = soma + i\n",
    "    i = i + 1    # incremento da variável de controle\n",
    "    \n",
    "# exibição do valor acumulado\n",
    "print(\"Soma = \", soma)    "
   ]
  },
  {
   "cell_type": "code",
   "execution_count": 5,
   "metadata": {},
   "outputs": [
    {
     "name": "stdout",
     "output_type": "stream",
     "text": [
      "SomaQuadrados = 0 + 1 + 4 + 9 + 16 + 25 + 36 + 49\n",
      "SomaQuadrados = 140\n"
     ]
    }
   ],
   "source": [
    "# Acumulação calculada\n",
    "somaQuadrados = 0 # variável para acumulação\n",
    "i = 1             # valor inicial da repetição\n",
    "N = 7             # valor final da repetição\n",
    "\n",
    "# Laço de repetição para somar quadrados de 1 até N\n",
    "print(\"SomaQuadrados = 0\", end=\"\")\n",
    "while i <= N:\n",
    "    # acumulação\n",
    "    somaQuadrados += i**2  # o mesmo que soma = soma + i\n",
    "    #\n",
    "    print(\" +\", i**2, end=\"\")\n",
    "    i = i + 1    # incremento da variável de controle\n",
    "    \n",
    "# exibição do valor acumulado\n",
    "print(\"\\nSomaQuadrados =\", somaQuadrados)    "
   ]
  },
  {
   "cell_type": "markdown",
   "metadata": {},
   "source": [
    "## Indexação"
   ]
  },
  {
   "cell_type": "code",
   "execution_count": null,
   "metadata": {},
   "outputs": [],
   "source": [
    "# Indexação é o procedimento de seleção de elementos\n",
    "# individuais presentes em estruturas de dados.\n",
    "# Python oferece várias estruturas: listas, conjuntos, tuplas etc.\n",
    "# Todas podem ser indexadas."
   ]
  },
  {
   "cell_type": "code",
   "execution_count": 3,
   "metadata": {},
   "outputs": [
    {
     "name": "stdout",
     "output_type": "stream",
     "text": [
      "0 Mercúrio\n",
      "1 Vênus\n",
      "2 Terra\n",
      "3 Marte\n"
     ]
    }
   ],
   "source": [
    "# Uma lista\n",
    "lista = ['Mercúrio', 'Vênus', 'Terra', 'Marte']\n",
    "\n",
    "# variável de controle do laço é um contador\n",
    "index = 0\n",
    "while index < len(lista):\n",
    "    print(index, lista[index])    # o colchete funciona \n",
    "                                  # como indexador de estruturas\n",
    "    index += 1                    # incrementa variável de controle"
   ]
  },
  {
   "cell_type": "markdown",
   "metadata": {},
   "source": [
    "### FIM\n",
    "### <a href=\"http://github.com/pjandl/opy1\">Oficina Python Básico</a>"
   ]
  }
 ],
 "metadata": {
  "kernelspec": {
   "display_name": "Python 3",
   "language": "python",
   "name": "python3"
  },
  "language_info": {
   "codemirror_mode": {
    "name": "ipython",
    "version": 3
   },
   "file_extension": ".py",
   "mimetype": "text/x-python",
   "name": "python",
   "nbconvert_exporter": "python",
   "pygments_lexer": "ipython3",
   "version": "3.8.5"
  }
 },
 "nbformat": 4,
 "nbformat_minor": 4
}
