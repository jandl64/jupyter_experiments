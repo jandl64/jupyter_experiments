{
 "cells": [
  {
   "cell_type": "markdown",
   "metadata": {},
   "source": [
    "# <font color='#7F0000'>Oficina Python Básico<br/>OP1-10-Decisão</font>"
   ]
  },
  {
   "cell_type": "markdown",
   "metadata": {},
   "source": [
    "## Decisão simples"
   ]
  },
  {
   "cell_type": "code",
   "execution_count": 2,
   "metadata": {},
   "outputs": [],
   "source": [
    "# A decisão simples if permite selecionar um comando ou \n",
    "# um conjunto de comandos (bloco) para execução, conforme\n",
    "# uma condição, cuja avaliação define SE:\n",
    "# Executa o(s) comando(s) quando condição resulta True;\n",
    "# NÃO executa o(s) comando(s) quando condição resulta False."
   ]
  },
  {
   "cell_type": "markdown",
   "metadata": {},
   "source": [
    "<img src=\"decisao-simples.png\"/>"
   ]
  },
  {
   "cell_type": "code",
   "execution_count": 7,
   "metadata": {},
   "outputs": [],
   "source": [
    "# Variável (de qualquer tipo)\n",
    "valor = 172.5"
   ]
  },
  {
   "cell_type": "code",
   "execution_count": 8,
   "metadata": {},
   "outputs": [
    {
     "data": {
      "text/plain": [
       "True"
      ]
     },
     "execution_count": 8,
     "metadata": {},
     "output_type": "execute_result"
    }
   ],
   "source": [
    "# Condição (expressão do tipo bool)\n",
    "valor > 100"
   ]
  },
  {
   "cell_type": "code",
   "execution_count": 9,
   "metadata": {},
   "outputs": [
    {
     "name": "stdout",
     "output_type": "stream",
     "text": [
      "Valor é maior do que 100!\n"
     ]
    }
   ],
   "source": [
    "# Decisão simples envolve avaliar a condição para\n",
    "# executar (caso True) ou não (caso False) o comando.\n",
    "if valor > 100:    # dois pontos é obrigatório\n",
    "    print(\"Valor é maior do que 100!\")    # requer indentação do comando associado\n",
    "    \n",
    "# Impressão da mensagem depende do conteúdo da variável valor\n",
    "# É um condicional! Modifique o conteúdo da variável valor\n",
    "# e repita a execução desta célula!"
   ]
  },
  {
   "cell_type": "code",
   "execution_count": 13,
   "metadata": {},
   "outputs": [
    {
     "name": "stdout",
     "output_type": "stream",
     "text": [
      "Digite um valor inteiro: -1\n",
      "x = -1\n"
     ]
    }
   ],
   "source": [
    "# Outro exemplo\n",
    "x = int(input(\"Digite um valor inteiro: \"))\n",
    "\n",
    "# Exibe valor digitado\n",
    "print(\"x =\", x)\n",
    "\n",
    "# Exibição condicional de mensagens\n",
    "if x > 0:\n",
    "    print(\"x > 0, ou seja, x é positivo\")\n",
    "    \n",
    "if x >= 6 and x <= 10:\n",
    "    print(\"x está entre 6 e 10\")    "
   ]
  },
  {
   "cell_type": "code",
   "execution_count": 14,
   "metadata": {},
   "outputs": [
    {
     "ename": "IndentationError",
     "evalue": "expected an indented block (<ipython-input-14-02f07e6a281b>, line 3)",
     "output_type": "error",
     "traceback": [
      "\u001b[0;36m  File \u001b[0;32m\"<ipython-input-14-02f07e6a281b>\"\u001b[0;36m, line \u001b[0;32m3\u001b[0m\n\u001b[0;31m    print(\"Zero\")    # comando associado (sem indentação teremos um erro)\u001b[0m\n\u001b[0m    ^\u001b[0m\n\u001b[0;31mIndentationError\u001b[0m\u001b[0;31m:\u001b[0m expected an indented block\n"
     ]
    }
   ],
   "source": [
    "# comandos não indentados em um if produzem um erro!\n",
    "if x == 0:       # dois-pontos é obrigatório\n",
    "print(\"Zero\")    # comando associado (sem indentação teremos um erro)"
   ]
  },
  {
   "cell_type": "code",
   "execution_count": 15,
   "metadata": {},
   "outputs": [
    {
     "ename": "SyntaxError",
     "evalue": "invalid syntax (<ipython-input-15-a1a2a23530e0>, line 2)",
     "output_type": "error",
     "traceback": [
      "\u001b[0;36m  File \u001b[0;32m\"<ipython-input-15-a1a2a23530e0>\"\u001b[0;36m, line \u001b[0;32m2\u001b[0m\n\u001b[0;31m    if x == 0            # dois-pontos é obrigatório, ocorre ERRO se omitido\u001b[0m\n\u001b[0m                         ^\u001b[0m\n\u001b[0;31mSyntaxError\u001b[0m\u001b[0;31m:\u001b[0m invalid syntax\n"
     ]
    }
   ],
   "source": [
    "# a omissão dos dois pontos também causa um erro!\n",
    "if x == 0            # dois-pontos é obrigatório, ocorre ERRO se omitido\n",
    "    print(\"Zero\")    # comando associado com indentação correta"
   ]
  },
  {
   "cell_type": "code",
   "execution_count": 16,
   "metadata": {},
   "outputs": [],
   "source": [
    "# Uso de decisão simples\n",
    "precoIngresso = 22.00   # Preço do ingresso\n",
    "descontoPadrao = 0.5    # Desconto padrão para estudantes (50%)"
   ]
  },
  {
   "cell_type": "code",
   "execution_count": 17,
   "metadata": {},
   "outputs": [
    {
     "name": "stdout",
     "output_type": "stream",
     "text": [
      "Compra de Ingressos\n",
      "Quantos ingressos deseja comprar? 5\n"
     ]
    }
   ],
   "source": [
    "# Entrada de dados: 1a etapa, quantidade de ingressos\n",
    "quantidade = int(input('Quantos ingressos deseja comprar? '))\n",
    "totalCompra = quantidade * precoIngresso"
   ]
  },
  {
   "cell_type": "code",
   "execution_count": 18,
   "metadata": {},
   "outputs": [],
   "source": [
    "descontoCompra = 0          # Precisa definir variáveis para\n",
    "totalFinal = totalCompra    # garantir execução OK nos dois casos"
   ]
  },
  {
   "cell_type": "code",
   "execution_count": 19,
   "metadata": {},
   "outputs": [
    {
     "name": "stdout",
     "output_type": "stream",
     "text": [
      "Você é estudante [S|N]? S\n"
     ]
    }
   ],
   "source": [
    "resp = input('Você é estudante [S|N]? ')\n",
    "if resp=='S' or resp=='s':\n",
    "    # Aplica desconto SE É estudante\n",
    "    descontoCompra = descontoPadrao*totalCompra\n",
    "    totalFinal = totalCompra - descontoCompra"
   ]
  },
  {
   "cell_type": "code",
   "execution_count": 20,
   "metadata": {},
   "outputs": [
    {
     "name": "stdout",
     "output_type": "stream",
     "text": [
      "Quant ingressos = 5\n",
      " Preço ingresso = R$   22.00\n",
      "Total da compra = R$  110.00\n",
      "       Desconto = R$   55.00\n",
      "    Total Final = R$   55.00\n"
     ]
    }
   ],
   "source": [
    "print('Quant ingressos =', quantidade)\n",
    "print(' Preço ingresso = R$ {:7.2f}'.format(precoIngresso))\n",
    "print('Total da compra = R$ {:7.2f}'.format(totalCompra))\n",
    "print('       Desconto = R$ {:7.2f}'.format(descontoCompra))\n",
    "print('    Total Final = R$ {:7.2f}'.format(totalFinal))"
   ]
  },
  {
   "cell_type": "markdown",
   "metadata": {},
   "source": [
    "## Decisão completa"
   ]
  },
  {
   "cell_type": "code",
   "execution_count": null,
   "metadata": {},
   "outputs": [],
   "source": [
    "# A diretiva if/else permite selecionar um comando (ou bloco) dentre\n",
    "# dois comandos (ou blocos), por meio da avaliação de uma condição\n",
    "# para efetuar a escolha/seleção:\n",
    "# Quando condição resulta True:\n",
    "# apenas o comando/bloco associado ao if é executado.\n",
    "# Quando condição resulta False:\n",
    "# apenas o comando/bloco associado ao else é executado."
   ]
  },
  {
   "cell_type": "markdown",
   "metadata": {},
   "source": [
    "<img src=\"decisao-completa.png\"/>"
   ]
  },
  {
   "cell_type": "code",
   "execution_count": 21,
   "metadata": {},
   "outputs": [],
   "source": [
    "# Importação de módulo\n",
    "import random"
   ]
  },
  {
   "cell_type": "code",
   "execution_count": 22,
   "metadata": {},
   "outputs": [],
   "source": [
    "# Sorteia um inteiro entre 0 e 20\n",
    "numeroSecreto = random.randrange(0, 21)"
   ]
  },
  {
   "cell_type": "code",
   "execution_count": 24,
   "metadata": {},
   "outputs": [
    {
     "name": "stdout",
     "output_type": "stream",
     "text": [
      "Seu palpite (entre 0 e 20? 12\n"
     ]
    }
   ],
   "source": [
    "# Lê palpite/tentativa do usuário\n",
    "numero = int(input('Seu palpite (entre 0 e 20)? '))"
   ]
  },
  {
   "cell_type": "code",
   "execution_count": 26,
   "metadata": {},
   "outputs": [
    {
     "name": "stdout",
     "output_type": "stream",
     "text": [
      "Você não acertou...\n",
      "O número secreto era 11 .\n"
     ]
    }
   ],
   "source": [
    "# Verifica o palpite\n",
    "if numero != numeroSecreto:\n",
    "    print('Você não acertou...')\n",
    "else:\n",
    "    print('Você acertou!!!')\n",
    "    \n",
    "print('O número secreto era', numeroSecreto, '.')    "
   ]
  },
  {
   "cell_type": "code",
   "execution_count": 28,
   "metadata": {},
   "outputs": [
    {
     "name": "stdout",
     "output_type": "stream",
     "text": [
      "Adivinhe\n",
      "Um número entre 0 e 20\n",
      "Seu palpite? 3\n",
      "Você não acertou...\n",
      "Seu palpite? 9\n",
      "Você não acertou...\n",
      "Seu palpite? 12\n",
      "Você não acertou...\n",
      "Seu palpite? 5\n",
      "Você não acertou...\n",
      "Seu palpite? 20\n",
      "Você acertou!!!\n",
      "O número secreto era 20 .\n",
      "Fim do jogo em 5 tentativas.\n"
     ]
    }
   ],
   "source": [
    "# Para transformar esse código num pequeno jogo, basta\n",
    "# acrescentar um laço de repetição condicional para\n",
    "# repetir as tentativas de adivinhar o número secreto.\n",
    "import random\n",
    "\n",
    "# Sorteia um inteiro entre 0 e 20\n",
    "numeroSecreto = random.randrange(0, 21)\n",
    "\n",
    "print('Adivinhe\\nUm número entre 0 e 20')\n",
    "\n",
    "numero = -1     # Inicializa número com valor inválido (fora da faixa)\n",
    "tentativas = 0  # Contador de tentativas\n",
    "\n",
    "while numero != numeroSecreto:\n",
    "    # Lê palpite/tentativa do usuário\n",
    "    numero = int(input('Seu palpite? '))\n",
    "    tentativas += 1     # incrementa contador de tentativas\n",
    "    # Verifica o palpite\n",
    "    if numero != numeroSecreto:\n",
    "        print('Você não acertou...')\n",
    "    else:\n",
    "        print('Você acertou!!!')\n",
    "        \n",
    "print('O número secreto era', numeroSecreto, '.')\n",
    "print('Fim do jogo em', tentativas, 'tentativas.')"
   ]
  },
  {
   "cell_type": "markdown",
   "metadata": {},
   "source": [
    "### FIM\n",
    "### <a href=\"http://github.com/pjandl/opy1\">Oficina Python Básico</a>"
   ]
  }
 ],
 "metadata": {
  "kernelspec": {
   "display_name": "Python 3",
   "language": "python",
   "name": "python3"
  },
  "language_info": {
   "codemirror_mode": {
    "name": "ipython",
    "version": 3
   },
   "file_extension": ".py",
   "mimetype": "text/x-python",
   "name": "python",
   "nbconvert_exporter": "python",
   "pygments_lexer": "ipython3",
   "version": "3.8.5"
  }
 },
 "nbformat": 4,
 "nbformat_minor": 4
}
