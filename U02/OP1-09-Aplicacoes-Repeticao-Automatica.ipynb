{
 "cells": [
  {
   "cell_type": "markdown",
   "metadata": {},
   "source": [
    "# <font color='#7F0000'>Oficina Python Básico<br/>OP1-09-Aplicações da repetição automática</font>"
   ]
  },
  {
   "cell_type": "code",
   "execution_count": 1,
   "metadata": {},
   "outputs": [],
   "source": [
    "# Repetição automática, assim como a repetição condicional pode ser utilizada para:\n",
    "# contagem\n",
    "# agregação\n",
    "# indexação"
   ]
  },
  {
   "cell_type": "markdown",
   "metadata": {},
   "source": [
    "## Contagem"
   ]
  },
  {
   "cell_type": "code",
   "execution_count": 1,
   "metadata": {},
   "outputs": [
    {
     "name": "stdout",
     "output_type": "stream",
     "text": [
      "0\n",
      "2\n",
      "4\n",
      "6\n",
      "8\n",
      "10\n"
     ]
    }
   ],
   "source": [
    "# variável inteira (que servirá como contador) é x\n",
    "for x in range(0, 10+1, 2):   # dois-pontos é obrigatório\n",
    "    print(x)     # comando associado (observe a indentação)\n",
    "# for executa os comandos PARA TODOS os valores da sequência."
   ]
  },
  {
   "cell_type": "code",
   "execution_count": 15,
   "metadata": {},
   "outputs": [],
   "source": [
    "# Boa prática: use constantes para definir a faixa de valores\n",
    "# válidos para entrada, facilitando a manutenção.\n",
    "MIN = 1 # valor mínimo (inferior)\n",
    "MAX = 5 # valor máximo (superior)"
   ]
  },
  {
   "cell_type": "code",
   "execution_count": 16,
   "metadata": {},
   "outputs": [
    {
     "name": "stdout",
     "output_type": "stream",
     "text": [
      "Digite um valor entre 1 e 5? 0\n",
      "Valor invalido! Tente outra vez.\n",
      "Digite um valor entre 1 e 5? 0\n",
      "Valor invalido! Tente outra vez.\n",
      "Digite um valor entre 1 e 5? -1\n",
      "Valor invalido! Tente outra vez.\n",
      "Digite um valor entre 1 e 5? 6\n",
      "Valor invalido! Tente outra vez.\n",
      "Digite um valor entre 1 e 5? 4\n",
      "Valor =  4\n"
     ]
    }
   ],
   "source": [
    "# Entrada de dados\n",
    "valor = int(input(\"Digite um valor entre {:d} e {:d}? \".format(MIN,MAX)))\n",
    "# Validação\n",
    "while valor < MIN or valor > MAX:\n",
    "    # Informe usuário sobre seu erro\n",
    "    print(\"Valor invalido! Tente outra vez.\")\n",
    "    # Repete entrada de dados\n",
    "    valor = int(input(\"Digite um valor entre {:d} e {:d}? \".format(MIN,MAX)))\n",
    "    \n",
    "# Quando sai do laço, foi realizada um entrada válida\n",
    "print(\"Valor = \", valor)"
   ]
  },
  {
   "cell_type": "markdown",
   "metadata": {},
   "source": [
    "## Agregação"
   ]
  },
  {
   "cell_type": "code",
   "execution_count": 17,
   "metadata": {},
   "outputs": [],
   "source": [
    "# Uso de repetição permite a acumulação de valores\n",
    "# fornecidos pelo usuário, calculados ou obtidos por outros meios."
   ]
  },
  {
   "cell_type": "code",
   "execution_count": 3,
   "metadata": {},
   "outputs": [
    {
     "name": "stdout",
     "output_type": "stream",
     "text": [
      "Soma =  55\n"
     ]
    }
   ],
   "source": [
    "# Acumulação simples\n",
    "soma = 0 # variável para acumulação\n",
    "ini = 1  # valor inicial da repetição\n",
    "N = 10   # valor final da repetição\n",
    "\n",
    "# Laço de repetição para somar inteiros 0 até N\n",
    "# Para incluir N indicamos N+1 no range!\n",
    "for i in range(ini, N+1):\n",
    "    # acumulação\n",
    "    soma += i    # o mesmo que soma = soma + i\n",
    "    # controle automático da variável i\n",
    "    \n",
    "# exibição do valor acumulado\n",
    "print(\"Soma = \", soma)    "
   ]
  },
  {
   "cell_type": "code",
   "execution_count": 4,
   "metadata": {},
   "outputs": [
    {
     "name": "stdout",
     "output_type": "stream",
     "text": [
      "SomaQuadrados = 0 + 1 + 4 + 9 + 16 + 25 + 36 + 49\n",
      "SomaQuadrados = 140\n"
     ]
    }
   ],
   "source": [
    "# Acumulação calculada\n",
    "somaQuadrados = 0 # variável para acumulação\n",
    "i = 1             # valor inicial da repetição\n",
    "N = 7             # valor final da repetição\n",
    "\n",
    "# Laço de repetição para somar quadrados de 1 até N\n",
    "print(\"SomaQuadrados = 0\", end=\"\")\n",
    "for i in range(ini, N+1):\n",
    "    # acumulação\n",
    "    somaQuadrados += i**2  # o mesmo que soma = soma + i\n",
    "    #\n",
    "    print(\" +\", i**2, end=\"\")\n",
    "    # controle automático da variável i\n",
    "    \n",
    "# exibição do valor acumulado\n",
    "print(\"\\nSomaQuadrados =\", somaQuadrados)    "
   ]
  },
  {
   "cell_type": "markdown",
   "metadata": {},
   "source": [
    "## Indexação"
   ]
  },
  {
   "cell_type": "code",
   "execution_count": null,
   "metadata": {},
   "outputs": [],
   "source": [
    "# Indexação é o procedimento de seleção de elementos\n",
    "# individuais presentes em estruturas de dados.\n",
    "# Python oferece várias estruturas: listas, conjuntos, tuplas etc.\n",
    "# Todas podem ser indexadas."
   ]
  },
  {
   "cell_type": "code",
   "execution_count": 2,
   "metadata": {},
   "outputs": [],
   "source": [
    "# Uma lista\n",
    "lista = ['Mercúrio', 'Vênus', 'Terra', 'Marte']"
   ]
  },
  {
   "cell_type": "code",
   "execution_count": 4,
   "metadata": {},
   "outputs": [
    {
     "name": "stdout",
     "output_type": "stream",
     "text": [
      "0 Mercúrio\n",
      "1 Vênus\n",
      "2 Terra\n",
      "3 Marte\n"
     ]
    }
   ],
   "source": [
    "# Indexação com uso da diretiva for\n",
    "for index in range(0,len(lista)):\n",
    "    print(index, lista[index])    # comando executado para cada elemento da lista"
   ]
  },
  {
   "cell_type": "code",
   "execution_count": 3,
   "metadata": {},
   "outputs": [
    {
     "name": "stdout",
     "output_type": "stream",
     "text": [
      "Mercúrio\n",
      "Vênus\n",
      "Terra\n",
      "Marte\n"
     ]
    }
   ],
   "source": [
    "# Uso simplificado da diretiva for para indexação\n",
    "# observe que não se conhece o índice, apenas o valor dos elementos\n",
    "for elemento in lista:\n",
    "    print(elemento)    # comando executado para cada elemento da lista"
   ]
  },
  {
   "cell_type": "markdown",
   "metadata": {},
   "source": [
    "## Geração de sequências"
   ]
  },
  {
   "cell_type": "code",
   "execution_count": null,
   "metadata": {},
   "outputs": [],
   "source": [
    "# Uso de repetição permite criar sequências de valores a\n",
    "# partir de relações matemáticas requeridas pelos problemas."
   ]
  },
  {
   "cell_type": "code",
   "execution_count": null,
   "metadata": {},
   "outputs": [],
   "source": [
    "# Fibonacci\n",
    "# Sequência (série) matemática dada por F(n) = F(n-1) - F(n-2)\n",
    "# que significa: cada elemento é a soma dos dois valores anteriores\n",
    "# Assim se definem os dois primeiros elementos como: F(0) = 0 e F(1) = 1\n",
    "# Assim: 0 1 1 2 3 5 8 13 21 34 55 89"
   ]
  },
  {
   "cell_type": "code",
   "execution_count": 6,
   "metadata": {},
   "outputs": [
    {
     "name": "stdout",
     "output_type": "stream",
     "text": [
      "Digite o número do elemento: 6\n",
      "F(0) = 0\n",
      "F(1) = 1\n",
      "F(2) = 1 + 0 = 1\n",
      "F(3) = 1 + 1 = 2\n",
      "F(4) = 2 + 1 = 3\n",
      "F(5) = 3 + 2 = 5\n",
      "F(6) = 5 + 3 = 8\n",
      "----------\n",
      "F(6) = 8\n"
     ]
    }
   ],
   "source": [
    "n = int(input('Digite o número do elemento: '))\n",
    "\n",
    "v_2 = 0     # valor inicial do 2o anterior\n",
    "v_1 = 1     # valor inicial do 1o anterior\n",
    "\n",
    "print(\"F(0) = 0\\nF(1) = 1\")\n",
    "\n",
    "for i in range(2, n+1):\n",
    "    v = v_1 + v_2   # o termo  atual é a soma dos dois anteriores\n",
    "    print('F({:d}) = {:d} + {:d} = {:d}'.format(i, v_1, v_2, v))\n",
    "    \n",
    "    v_2 = v_1       # o 2a anterior se torna o 1o anterior\n",
    "    v_1 = v         # o 1a anterior se torna atual\n",
    "    \n",
    "print(\"----------\")\n",
    "print(\"F({:d}) = {:d}\".format(n, v))"
   ]
  },
  {
   "cell_type": "markdown",
   "metadata": {},
   "source": [
    "### FIM\n",
    "### <a href=\"http://github.com/pjandl/opy1\">Oficina Python Básico</a>"
   ]
  }
 ],
 "metadata": {
  "kernelspec": {
   "display_name": "Python 3",
   "language": "python",
   "name": "python3"
  },
  "language_info": {
   "codemirror_mode": {
    "name": "ipython",
    "version": 3
   },
   "file_extension": ".py",
   "mimetype": "text/x-python",
   "name": "python",
   "nbconvert_exporter": "python",
   "pygments_lexer": "ipython3",
   "version": "3.8.5"
  }
 },
 "nbformat": 4,
 "nbformat_minor": 4
}
