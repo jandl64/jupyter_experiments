{
 "cells": [
  {
   "cell_type": "markdown",
   "metadata": {},
   "source": [
    "# <font color='#7F0000'>Oficina Python Básico<br/>OP1-Lista Um</font>"
   ]
  },
  {
   "cell_type": "code",
   "execution_count": null,
   "metadata": {},
   "outputs": [],
   "source": [
    "# 1.\n",
    "# Construa um programa Python que defina variáveis para armazenar seu nome,\n",
    "# sua idade e a cidade onde mora. Os valores das variáveis podem ser diretamente\n",
    "# indicados (não é necessário realizar a entrada destes dados).\n",
    "# Imprima no console o conteúdo destas variáveis."
   ]
  },
  {
   "cell_type": "code",
   "execution_count": null,
   "metadata": {},
   "outputs": [],
   "source": [
    "# definição de variáveis\n",
    "nome = \"Peter\"\n",
    "idade = 56\n",
    "cidade = 'Itatiba-SP'\n",
    "\n",
    "# exibição das variáveis\n",
    "print(nome)\n",
    "print(idade)\n",
    "print(cidade)"
   ]
  },
  {
   "cell_type": "code",
   "execution_count": null,
   "metadata": {},
   "outputs": [],
   "source": [
    "# 2.\n",
    "# Modifique o programa (1) para que\n",
    "# sejam lidos seu nome, sua idade e a cidade onde mora. \n",
    "# Imprima no console o conteúdo destas variáveis."
   ]
  },
  {
   "cell_type": "code",
   "execution_count": null,
   "metadata": {},
   "outputs": [],
   "source": [
    "# Uso de input() para ler a variável nome\n",
    "nome = input(\"Seu nome? \")\n",
    "\n",
    "# Complete o código para realizar a leitura de valores\n",
    "idade = \n",
    "cidade = \n",
    "\n",
    "# exibição das variáveis\n",
    "print(nome)\n",
    "print(idade)\n",
    "print(cidade)"
   ]
  },
  {
   "cell_type": "code",
   "execution_count": null,
   "metadata": {},
   "outputs": [],
   "source": [
    "# 3.\n",
    "# Construa um programa Python receba (leia) dois números inteiros x e y,\n",
    "# apresentando sua soma x+y, subtração x-y, multiplicação x*y, divisão x/y,\n",
    "# divisão inteira x//y e exponenciação x**y.\n",
    "# Ou seja, imprimindo os valores lidos e os resultados\n",
    "# destas operações no console."
   ]
  },
  {
   "cell_type": "code",
   "execution_count": null,
   "metadata": {},
   "outputs": [],
   "source": [
    "# leitura de números inteiros x e y\n",
    "x = int(input(\"Valor inteiro x? \"))\n",
    "y = \n",
    "\n",
    "# Resultados das operações\n",
    "res = x + y\n",
    "print(\"Soma: x + y = {} + {} = {}\".format(x, y, res))\n",
    "# Complete o código para as outras operações\n"
   ]
  },
  {
   "cell_type": "code",
   "execution_count": null,
   "metadata": {},
   "outputs": [],
   "source": [
    "# 4.\n",
    "# Escreva um programa que leia um valor numérico real que representa uma\n",
    "# temperatura na escala Celsius. O programa deve converter tal valor em seu\n",
    "# equivalente na escala Fahrenheit. O resultado deve ser impresso no console.\n",
    "# fahrenheit = (celsius * 9)/5 + 32"
   ]
  },
  {
   "cell_type": "code",
   "execution_count": null,
   "metadata": {},
   "outputs": [],
   "source": [
    "# leitura de número real para temperatura Celsius\n",
    "celsius = float(input(\"Temperatura Celsius? \"))\n",
    "print(celsius, \"˚C\")\n",
    "\n",
    "# conversão de Celsius para Fahrenheit\n",
    "fahrenheit = (celsius * 9)/5 + 32\n",
    "\n",
    "# Exibição do resultado\n",
    "print(fahrenheit, \"F\")"
   ]
  },
  {
   "cell_type": "code",
   "execution_count": null,
   "metadata": {},
   "outputs": [],
   "source": [
    "# 5.\n",
    "# Escreva um programa que leia um valor numérico real que representa uma distância\n",
    "# em milhas. O programa deve converter tal valor em seu equivalente em quilômetros,\n",
    "# sabendo que 1 mi = 1,60934 km. O resultado deve ser impresso no console."
   ]
  },
  {
   "cell_type": "code",
   "execution_count": null,
   "metadata": {},
   "outputs": [],
   "source": [
    "# A solução deste exercício é bastante semelhante ao anterior (4)."
   ]
  },
  {
   "cell_type": "code",
   "execution_count": null,
   "metadata": {},
   "outputs": [],
   "source": [
    "# 6.\n",
    "# Construa um programa que receba (leia) três números reais, considerando que estes\n",
    "# três valores são os coeficientes a, b e c de uma equação de 2º grau.\n",
    "# Calcule o delta (= b² - 4*a*c) e exiba seu valor no console."
   ]
  },
  {
   "cell_type": "code",
   "execution_count": null,
   "metadata": {},
   "outputs": [],
   "source": [
    "# Complete para realizar a leitura de a, b, e c do tipo float (reais)\n",
    "a = float(input(\"Coeficiente real a? \"))\n",
    "b =\n",
    "c =\n",
    "\n",
    "# Complete o cálculo do delta\n",
    "delta = \n",
    "\n",
    "# Exibir delta (melhor a informação exibida para o usuário)\n",
    "print(delta)"
   ]
  },
  {
   "cell_type": "code",
   "execution_count": null,
   "metadata": {},
   "outputs": [],
   "source": [
    "# 7.\n",
    "# Escreva um programa que leia o preço do litro do etanol e, também, o preço do litro\n",
    "# da gasolina comum. Exiba, no console, quanto seria gasto para encher um tanque de\n",
    "# 50 litros com cada combustível; qual o valor relativo do etanol em relação à gasolina\n",
    "# (precoEtanol / precoGasolina); e quantos litros de etanol podem ser comprados com\n",
    "# o preço de um litro de gasolina comum."
   ]
  },
  {
   "cell_type": "code",
   "execution_count": null,
   "metadata": {},
   "outputs": [],
   "source": [
    "# Complete o código deste exercício\n",
    "# Leia o preço do litro do etanol\n",
    "precoEtanol = \n",
    "# Leia o preço do litro da gasolina comum\n",
    "precoGasolina = \n",
    "\n",
    "# Gasto para encher tanque de 50 litros\n",
    "gasto = \n",
    "print(gasto)\n",
    "\n",
    "# Relação \n",
    "relacao =\n",
    "print(relacao)"
   ]
  },
  {
   "cell_type": "code",
   "execution_count": null,
   "metadata": {},
   "outputs": [],
   "source": [
    "# 8.\n",
    "# Pretendemos revestir um salão retangular com um piso cerâmico, cujas peças têm o\n",
    "# mesmo tamanho e que podem ser assentadas lado a lado (sem espaço entre as\n",
    "# peças). Desejamos saber quantas peças de piso deverão ser compradas. Escreva um\n",
    "# programa que leia as dimensões comprimento e largura do salão retangular (valores\n",
    "# reais expressos em metros); e o comprimento e largura da cerâmica a ser\n",
    "# empregada (valores inteiros em milimetros), informando o número de peças\n",
    "# requeridas para cobrir o comprimento do salão, o número de peças requeridas para\n",
    "# cobrir a largura do salão; e o número total de peças necessárias."
   ]
  },
  {
   "cell_type": "code",
   "execution_count": null,
   "metadata": {},
   "outputs": [],
   "source": [
    "# Ler dimensõesdo salão (comprimento e largura, em metros)\n",
    "\n",
    "# Ler dimensões da cerâmica (comprimento e largura, em milimetros)\n",
    "\n",
    "# Calcular número de peças para cobrir o comprimento\n",
    "\n",
    "# Calcular número de peças para cobrir a largura\n",
    "\n",
    "# Calcular número total de peças"
   ]
  },
  {
   "cell_type": "markdown",
   "metadata": {},
   "source": [
    "### FIM\n",
    "### <a href=\"http://github.com/pjandl/opy1\">Oficina Python Básico</a>"
   ]
  }
 ],
 "metadata": {
  "kernelspec": {
   "display_name": "Python 3",
   "language": "python",
   "name": "python3"
  },
  "language_info": {
   "codemirror_mode": {
    "name": "ipython",
    "version": 3
   },
   "file_extension": ".py",
   "mimetype": "text/x-python",
   "name": "python",
   "nbconvert_exporter": "python",
   "pygments_lexer": "ipython3",
   "version": "3.8.5"
  }
 },
 "nbformat": 4,
 "nbformat_minor": 4
}
