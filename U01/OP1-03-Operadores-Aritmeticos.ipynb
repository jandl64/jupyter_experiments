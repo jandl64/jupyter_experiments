{
 "cells": [
  {
   "cell_type": "markdown",
   "metadata": {},
   "source": [
    "# <font color='#7F0000'>Oficina Python Básico<br/>OP1-03-Operadores Ariméticos</font>"
   ]
  },
  {
   "cell_type": "code",
   "execution_count": null,
   "metadata": {},
   "outputs": [],
   "source": [
    "# Variáveis e valores literais podem ser combinados por meio de\n",
    "# operadores aritméticos, relacionais e lógicos; formando expressões\n",
    "# que podem produzir resultados mais sofisticados."
   ]
  },
  {
   "cell_type": "markdown",
   "metadata": {},
   "source": [
    "## Definição de variáveis"
   ]
  },
  {
   "cell_type": "code",
   "execution_count": null,
   "metadata": {},
   "outputs": [],
   "source": [
    "# Considere as variáveis inteiras que seguem\n",
    "a = 7\n",
    "b = 4"
   ]
  },
  {
   "cell_type": "markdown",
   "metadata": {},
   "source": [
    "## Operadores aritméticos"
   ]
  },
  {
   "cell_type": "code",
   "execution_count": null,
   "metadata": {},
   "outputs": [],
   "source": [
    "# Possibilitam realizar somas, subtrações, multiplicações e divisões\n",
    "# entre valores inteiros, reais e complexos.\n",
    "# Utiliza os operadores comuns da álgebra: +, -, * e /."
   ]
  },
  {
   "cell_type": "code",
   "execution_count": null,
   "metadata": {},
   "outputs": [],
   "source": [
    "# Adição (soma)\n",
    "a + b\n",
    "# O resultado dessa expressão é calculado, mas perdido (não há atribuição ou uso)"
   ]
  },
  {
   "cell_type": "code",
   "execution_count": null,
   "metadata": {},
   "outputs": [],
   "source": [
    "# Impressão (exibição) de adição\n",
    "print(a + b)\n",
    "# O resultado dessa expressão é calculado e usado pela função print()"
   ]
  },
  {
   "cell_type": "code",
   "execution_count": null,
   "metadata": {},
   "outputs": [],
   "source": [
    "# Adição com atribuição de resultado\n",
    "res = a + b\n",
    "# A variável res contém o resultado, que poderá ser usado posteriormente\n",
    "print(res)"
   ]
  },
  {
   "cell_type": "code",
   "execution_count": null,
   "metadata": {},
   "outputs": [],
   "source": [
    "# Variáveis e literais podem ser combinados com operadores aritméticos\n",
    "res = a + 10\n",
    "print(\"soma =\", a + 10)\n",
    "\n",
    "print(\"outra soma =\", 5 + b)"
   ]
  },
  {
   "cell_type": "code",
   "execution_count": null,
   "metadata": {},
   "outputs": [],
   "source": [
    "# Função print() com uso de strings formatadas\n",
    "print(\"soma = {}\".format(res))\n",
    "print(\"soma = {:4d}\".format(res))\n",
    "print(\"soma = {:03d}\".format(res))"
   ]
  },
  {
   "cell_type": "code",
   "execution_count": null,
   "metadata": {},
   "outputs": [],
   "source": [
    "# Subtração\n",
    "res = a - b\n",
    "print(res)\n",
    "print(\"res({}) contém a - b({}) para a={} e b={}\".format(res, a - b, a, b))"
   ]
  },
  {
   "cell_type": "code",
   "execution_count": null,
   "metadata": {},
   "outputs": [],
   "source": [
    "# Multiplicação\n",
    "res = a * b\n",
    "print(res)\n",
    "print(\"res({}) contém a * b({}) para a={} e b={}\".format(res, a * b, a, b))"
   ]
  },
  {
   "cell_type": "code",
   "execution_count": null,
   "metadata": {},
   "outputs": [],
   "source": [
    "# Divisão\n",
    "res = a / b\n",
    "print(res)\n",
    "print(\"res({:.3f}) contém a / b({}) para a={} e b={}\".format(res, a / b, a, b))"
   ]
  },
  {
   "cell_type": "code",
   "execution_count": null,
   "metadata": {},
   "outputs": [],
   "source": [
    "# Divisão inteira\n",
    "res = a // b\n",
    "print(res)\n",
    "print(\"res({}) contém a // b({}) para a={} e b={}\".format(res, a // b, a, b))"
   ]
  },
  {
   "cell_type": "code",
   "execution_count": null,
   "metadata": {},
   "outputs": [],
   "source": [
    "# Cuidado com a divisão por zero\n",
    "res = a / 0"
   ]
  },
  {
   "cell_type": "markdown",
   "metadata": {},
   "source": [
    "### FIM\n",
    "### <a href=\"http://github.com/pjandl/opy1\">Oficina Python Básico</a>"
   ]
  }
 ],
 "metadata": {
  "kernelspec": {
   "display_name": "Python 3",
   "language": "python",
   "name": "python3"
  },
  "language_info": {
   "codemirror_mode": {
    "name": "ipython",
    "version": 3
   },
   "file_extension": ".py",
   "mimetype": "text/x-python",
   "name": "python",
   "nbconvert_exporter": "python",
   "pygments_lexer": "ipython3",
   "version": "3.8.5"
  }
 },
 "nbformat": 4,
 "nbformat_minor": 4
}
