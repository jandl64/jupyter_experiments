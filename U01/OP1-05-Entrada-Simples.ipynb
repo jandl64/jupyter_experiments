{
 "cells": [
  {
   "cell_type": "markdown",
   "metadata": {},
   "source": [
    "# <font color='#7F0000'>Oficina Python Básico<br/>OP1-05-Entrada Simples</font>"
   ]
  },
  {
   "cell_type": "code",
   "execution_count": null,
   "metadata": {},
   "outputs": [],
   "source": [
    "# A entrada de dados permite que o usuário forneça\n",
    "# valores que serão usados pelo programa.\n",
    "# O Python dispõe da função embutida input() que realiza\n",
    "# essa tarefa."
   ]
  },
  {
   "cell_type": "code",
   "execution_count": null,
   "metadata": {},
   "outputs": [],
   "source": [
    "# A função input pode exibir uma mensagem (prompt) para o usuário\n",
    "# e lê a digitação do usuário até que o ENTER seja teclado.\n",
    "entrada = input(\"Digite algo? \")\n",
    "# é usual que uma variável recebe o resultado de input()"
   ]
  },
  {
   "cell_type": "code",
   "execution_count": null,
   "metadata": {},
   "outputs": [],
   "source": [
    "# É possível verificar a entrada realizada, exibindo a variável\n",
    "print(entrada)"
   ]
  },
  {
   "cell_type": "code",
   "execution_count": null,
   "metadata": {},
   "outputs": [],
   "source": [
    "# Outros exemplos, observe o uso das aspas simples e duplas\n",
    "nome = input('Digite seu nome: ')\n",
    "cidade = input(\"Digite uma cidade: \")"
   ]
  },
  {
   "cell_type": "code",
   "execution_count": null,
   "metadata": {},
   "outputs": [],
   "source": [
    "# Valores digitados\n",
    "print(\"Seu nome: \", nome)\n",
    "print(\"Cidade: {}\".format(cidade))"
   ]
  },
  {
   "cell_type": "code",
   "execution_count": null,
   "metadata": {},
   "outputs": [],
   "source": [
    "# A função input() lê o texto digitado pelo usuário\n",
    "print(\"Tipo de 'nome':\", type(nome))\n",
    "print(\"Tipo de 'cidade':\", type(cidade))"
   ]
  },
  {
   "cell_type": "code",
   "execution_count": null,
   "metadata": {},
   "outputs": [],
   "source": [
    "# A entrada de input() pode ser convertida para um inteiro com a função int()\n",
    "inteiro = int(input(\"Digite um inteiro: \"))\n",
    "print(\"Valor inteiro digitado =\", inteiro)\n",
    "print(\"Tipo de 'inteiro':\", type(inteiro))"
   ]
  },
  {
   "cell_type": "code",
   "execution_count": null,
   "metadata": {},
   "outputs": [],
   "source": [
    "# A entrada de input() pode ser convertida para um real com a função float()\n",
    "real = float(input(\"Digite um real: \"))\n",
    "print(\"Valor real digitado =\", real)\n",
    "print(\"Tipo de 'real':\", type(real))"
   ]
  },
  {
   "cell_type": "code",
   "execution_count": null,
   "metadata": {},
   "outputs": [],
   "source": [
    "# Ocorre um erro ValueError se o valor fornecido é inválido,\n",
    "# isto é, não pode ser convertido para o tipo indicado.\n",
    "inteiro = int(input(\"Digite um valor inválido como inteiro: \"))"
   ]
  },
  {
   "cell_type": "code",
   "execution_count": null,
   "metadata": {},
   "outputs": [],
   "source": [
    "# Outras bases numéricas (binário, octal e hexadecimal)\n",
    "# podem ser usadas, mas função int() precisa indicar a base requerida!\n",
    "valor = int(input(\"Digite um valor binário: \"), base=2)\n",
    "print(\"valor equivalente base 10 =\", valor)\n",
    "valor = int(input(\"Digite um valor octal: \"), base=8)\n",
    "print(\"valor equivalente base 10 =\", valor)\n",
    "valor = int(input(\"Digite um valor hexadecimal: \"), base=16)\n",
    "print(\"valor equivalente base 10 =\", valor)"
   ]
  },
  {
   "cell_type": "code",
   "execution_count": null,
   "metadata": {},
   "outputs": [],
   "source": [
    "# Python aceita valores literais em hexadecimal, octal ou binário,\n",
    "# desde que incluídos os prefixos:\n",
    "# 0x para valores em hexadecimal (base 16)\n",
    "# 0o para valores em octal (base 8)\n",
    "# 0b para valores em binário (base 2)\n",
    "binario = 0x1101\n",
    "octal = 0o7657\n",
    "hexa = 0xABC\n",
    "print(binario)\n",
    "print(octal)\n",
    "print(hexa)"
   ]
  },
  {
   "cell_type": "code",
   "execution_count": null,
   "metadata": {},
   "outputs": [],
   "source": [
    "# A entrada de input() pode ser convertida para um inteiro com a função int()\n",
    "valorInteiro = int(input(\"Digite um inteiro: \"))\n",
    "print(\"Valor inteiro digitado =\", valorInteiro)"
   ]
  },
  {
   "cell_type": "markdown",
   "metadata": {},
   "source": [
    "### FIM\n",
    "### <a href=\"http://github.com/pjandl/opy1\">Oficina Python Básico</a>"
   ]
  }
 ],
 "metadata": {
  "kernelspec": {
   "display_name": "Python 3",
   "language": "python",
   "name": "python3"
  },
  "language_info": {
   "codemirror_mode": {
    "name": "ipython",
    "version": 3
   },
   "file_extension": ".py",
   "mimetype": "text/x-python",
   "name": "python",
   "nbconvert_exporter": "python",
   "pygments_lexer": "ipython3",
   "version": "3.8.5"
  }
 },
 "nbformat": 4,
 "nbformat_minor": 4
}
