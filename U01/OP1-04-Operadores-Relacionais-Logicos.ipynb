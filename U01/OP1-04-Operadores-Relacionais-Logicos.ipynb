{
 "cells": [
  {
   "cell_type": "markdown",
   "metadata": {},
   "source": [
    "# <font color='#7F0000'>Oficina Python Básico<br/>OP1-04-Operadores Relacionais e Lógicos</font>"
   ]
  },
  {
   "cell_type": "code",
   "execution_count": null,
   "metadata": {},
   "outputs": [],
   "source": [
    "# Variáveis e valores literais podem ser combinados por meio de\n",
    "# operadores aritméticos, relacionais e lógicos; formando expressões\n",
    "# que podem produzir resultados mais sofisticados."
   ]
  },
  {
   "cell_type": "markdown",
   "metadata": {},
   "source": [
    "## Operadores relacionais"
   ]
  },
  {
   "cell_type": "code",
   "execution_count": null,
   "metadata": {},
   "outputs": [],
   "source": [
    "# Permitem comparar (estabelecer relações) entre valores.\n",
    "# Possibilitam expressar predicados.\n",
    "# Retornam um valor lógico (True ou False)."
   ]
  },
  {
   "cell_type": "code",
   "execution_count": null,
   "metadata": {},
   "outputs": [],
   "source": [
    "# Considere as variáveis inteiras que seguem\n",
    "a = 13\n",
    "b = 5\n",
    "\n",
    "# Valores de a e b\n",
    "print(\"a =\", a)\n",
    "print(\"b =\", b)"
   ]
  },
  {
   "cell_type": "code",
   "execution_count": null,
   "metadata": {},
   "outputs": [],
   "source": [
    "# Maior e maior igual\n",
    "print(\"a > b =\", a > b)\n",
    "print(\"a >= b =\", a >= b)"
   ]
  },
  {
   "cell_type": "code",
   "execution_count": null,
   "metadata": {},
   "outputs": [],
   "source": [
    "# Menor e menor igual\n",
    "print(\"a < b =\", a < b)\n",
    "print(\"a <= b =\", a <= b)"
   ]
  },
  {
   "cell_type": "code",
   "execution_count": null,
   "metadata": {},
   "outputs": [],
   "source": [
    "# Igualdade e diferença\n",
    "print(\"a == b =\", a == b)\n",
    "print(\"a != b =\", a != b)"
   ]
  },
  {
   "cell_type": "code",
   "execution_count": null,
   "metadata": {},
   "outputs": [],
   "source": [
    "# O resultado de uma operação relacional pode\n",
    "# ser atribuído à uma variável.\n",
    "res = a > b\n",
    "print(res)"
   ]
  },
  {
   "cell_type": "markdown",
   "metadata": {},
   "source": [
    "## Operadores lógicos"
   ]
  },
  {
   "cell_type": "code",
   "execution_count": null,
   "metadata": {},
   "outputs": [],
   "source": [
    "# São as operações lógicas E, OU e NÃO, definidas pela álgebra de Boole.\n",
    "# Permitem conectar uma ou mais expressões relacionais, ou seja,\n",
    "# possibilitam combinar predicados simples para definir predicados compostos.\n",
    "# Retornam um valor lógico (True ou False)."
   ]
  },
  {
   "cell_type": "code",
   "execution_count": null,
   "metadata": {},
   "outputs": [],
   "source": [
    "# Valores de a e b\n",
    "print(\"a =\", a)\n",
    "print(\"b =\", b)"
   ]
  },
  {
   "cell_type": "code",
   "execution_count": null,
   "metadata": {},
   "outputs": [],
   "source": [
    "# Um predicado simples: \"a é maior que zero\"\n",
    "print(\"p1: a > 0 =\", a > 0)\n",
    "# Predicado simples p\n",
    "p = a > 0\n",
    "print(\"p2: a > 0 =\", p)"
   ]
  },
  {
   "cell_type": "code",
   "execution_count": null,
   "metadata": {},
   "outputs": [],
   "source": [
    "# Outro predicado simples: \"a é menor que 10\"\n",
    "print(\"q1: a < 10 =\", a < 10)\n",
    "# Predicado simples q\n",
    "q = a < 10\n",
    "print(\"q2: a < 10 =\", q)"
   ]
  },
  {
   "cell_type": "code",
   "execution_count": null,
   "metadata": {},
   "outputs": [],
   "source": [
    "# E lógico representado pelo operador and\n",
    "#\n",
    "# False and False resulta False\n",
    "# False and True resulta False\n",
    "# True and False resulta False\n",
    "# True and True resulta True"
   ]
  },
  {
   "cell_type": "code",
   "execution_count": null,
   "metadata": {},
   "outputs": [],
   "source": [
    "# Um predicado composto:\n",
    "# \"a é maior que zero\" E \"a é menor que 10\"\n",
    "# Ou:\n",
    "# p and q\n",
    "print(\"c1: a > 0 and a < 10\", a > 0 and a < 10) \n",
    "print(\"c2: a > 0 and a < 10\", p and q) "
   ]
  },
  {
   "cell_type": "code",
   "execution_count": null,
   "metadata": {},
   "outputs": [],
   "source": [
    "# OU lógico representado pelo operador or\n",
    "#\n",
    "# False and False resulta False\n",
    "# False and True resulta True\n",
    "# True and False resulta True\n",
    "# True and True resulta True"
   ]
  },
  {
   "cell_type": "code",
   "execution_count": null,
   "metadata": {},
   "outputs": [],
   "source": [
    "# Um predicado composto:\n",
    "# \"a é maior que zero\" OU \"b é menor que 10\"\n",
    "# Ou:\n",
    "# p and q\n",
    "print(\"c1: a > 0 or b < 10\", a > 0 or b < 10) \n",
    "print(\"c2: a > 0 or b < 10\", p or q) "
   ]
  },
  {
   "cell_type": "code",
   "execution_count": null,
   "metadata": {},
   "outputs": [],
   "source": [
    "# NÃO lógico representado pelo operador not\n",
    "#\n",
    "# not False resulta True\n",
    "# not True resulta False"
   ]
  },
  {
   "cell_type": "code",
   "execution_count": null,
   "metadata": {},
   "outputs": [],
   "source": [
    "# Considerando o predicado p\n",
    "print(\"p =\", p)\n",
    "# Então:\n",
    "print(\"not p =\", not p)\n",
    "# E também:\n",
    "r = not p\n",
    "print(\"r = not p = \", r)"
   ]
  },
  {
   "cell_type": "code",
   "execution_count": null,
   "metadata": {},
   "outputs": [],
   "source": [
    "# Observe a dupla negação \n",
    "print(\"r =\", r)\n",
    "print(\"not r =\", not r)\n",
    "print(\"not (not r) =\", not (not r))"
   ]
  },
  {
   "cell_type": "markdown",
   "metadata": {},
   "source": [
    "### FIM\n",
    "### <a href=\"http://github.com/pjandl/opy1\">Oficina Python Básico</a>"
   ]
  }
 ],
 "metadata": {
  "kernelspec": {
   "display_name": "Python 3",
   "language": "python",
   "name": "python3"
  },
  "language_info": {
   "codemirror_mode": {
    "name": "ipython",
    "version": 3
   },
   "file_extension": ".py",
   "mimetype": "text/x-python",
   "name": "python",
   "nbconvert_exporter": "python",
   "pygments_lexer": "ipython3",
   "version": "3.8.5"
  }
 },
 "nbformat": 4,
 "nbformat_minor": 4
}
