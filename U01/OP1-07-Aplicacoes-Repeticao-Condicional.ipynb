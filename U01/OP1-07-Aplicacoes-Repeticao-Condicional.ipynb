{
 "cells": [
  {
   "cell_type": "markdown",
   "metadata": {},
   "source": [
    "# <font color='#7F0000'>Oficina Python Básico<br/>OP1-07-Aplicações da repetição condicional</font>"
   ]
  },
  {
   "cell_type": "code",
   "execution_count": null,
   "metadata": {},
   "outputs": [],
   "source": [
    "# Repetição condicional pode ser utilizada para:\n",
    "# contagem\n",
    "# validação\n",
    "# agregação\n",
    "# indexação"
   ]
  },
  {
   "cell_type": "code",
   "execution_count": null,
   "metadata": {},
   "outputs": [],
   "source": [
    "# variável inteira (que servirá como contador)\n",
    "x = 0\n",
    "# comando de repetição while\n",
    "# expressão condicional é x <= 10\n",
    "while x <= 10:   # dois-pontos é obrigatório\n",
    "    print(x)     # comando associado (observe a identação)\n",
    "    x += 2       # controle da repetição: modifica a expressão condicional\n",
    "# while executa os comandos ENQUANTO a condição é verdadeira/True.    "
   ]
  },
  {
   "cell_type": "markdown",
   "metadata": {},
   "source": [
    "## Validação"
   ]
  },
  {
   "cell_type": "code",
   "execution_count": null,
   "metadata": {},
   "outputs": [],
   "source": [
    "# Repetição pode ser usada para validar a entrada de dados.\n",
    "# A operação de entrada pode ser repetida enquanto inválida."
   ]
  },
  {
   "cell_type": "code",
   "execution_count": null,
   "metadata": {},
   "outputs": [],
   "source": [
    "MIN = 0 # valor mínimo (inferior da faixa de valores válidos para entrada)\n",
    "MAX = 5 # valor máximo (superior da faixa de valores válidos para entrada)\n",
    "\n",
    "# entrada de dados\n",
    "valor = int(input(\"Digite um valor entre {:d} e {:d})? \"))"
   ]
  },
  {
   "cell_type": "code",
   "execution_count": null,
   "metadata": {},
   "outputs": [],
   "source": []
  }
 ],
 "metadata": {
  "kernelspec": {
   "display_name": "Python 3",
   "language": "python",
   "name": "python3"
  },
  "language_info": {
   "codemirror_mode": {
    "name": "ipython",
    "version": 3
   },
   "file_extension": ".py",
   "mimetype": "text/x-python",
   "name": "python",
   "nbconvert_exporter": "python",
   "pygments_lexer": "ipython3",
   "version": "3.8.5"
  }
 },
 "nbformat": 4,
 "nbformat_minor": 4
}
