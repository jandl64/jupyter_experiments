{
 "cells": [
  {
   "cell_type": "markdown",
   "metadata": {},
   "source": [
    "# <font color='#7F0000'>Oficina Python Básico [Dia 1]</font>\n",
    "# <font color='#7F0000'>Saída simples</font>"
   ]
  },
  {
   "cell_type": "code",
   "execution_count": 19,
   "metadata": {},
   "outputs": [],
   "source": [
    "# Este é um Jupyter Notebook para Linguagem Python!\n",
    "# Todo texto precedido por # é um comentário. Usaremos os comentários para \n",
    "# passar instruções e, é claro, comentar sobre os resultados esperados. "
   ]
  },
  {
   "cell_type": "markdown",
   "metadata": {},
   "source": [
    "## Introdução"
   ]
  },
  {
   "cell_type": "code",
   "execution_count": 20,
   "metadata": {},
   "outputs": [
    {
     "data": {
      "text/plain": [
       "3"
      ]
     },
     "execution_count": 20,
     "metadata": {},
     "output_type": "execute_result"
    }
   ],
   "source": [
    "# Cada célula de um Jupyter Notebook pode conter um ou mais comandos \n",
    "# de uma das linguagens de programação suportadas (Python, R, Julia etc).\n",
    "\n",
    "# Execute a célula atual (aquela com destaque na margem esquerda da página)\n",
    "# com SHIFT+ENTER\n",
    "1 + 2\n",
    "\n",
    "# O resultado (após a execução) aparece abaixo de sua célula!"
   ]
  },
  {
   "cell_type": "code",
   "execution_count": 21,
   "metadata": {},
   "outputs": [
    {
     "name": "stdout",
     "output_type": "stream",
     "text": [
      "Oi!\n"
     ]
    }
   ],
   "source": [
    "# Saída simples (para console)\n",
    "print('Oi!')"
   ]
  },
  {
   "cell_type": "code",
   "execution_count": 22,
   "metadata": {},
   "outputs": [
    {
     "name": "stdout",
     "output_type": "stream",
     "text": [
      "Oficina Python\n",
      "Oficina Python\n"
     ]
    }
   ],
   "source": [
    "# A função print() pode imprimir strings, com aspas simples ou duplas\n",
    "print('Oficina Python')\n",
    "print(\"Oficina Python\")"
   ]
  },
  {
   "cell_type": "code",
   "execution_count": 23,
   "metadata": {},
   "outputs": [
    {
     "name": "stdout",
     "output_type": "stream",
     "text": [
      "2021\n",
      "123.456\n"
     ]
    }
   ],
   "source": [
    "# A função print() pode imprimir números inteiros e reais\n",
    "print(2021)\n",
    "print(123.456)"
   ]
  },
  {
   "cell_type": "code",
   "execution_count": 24,
   "metadata": {},
   "outputs": [
    {
     "name": "stdout",
     "output_type": "stream",
     "text": [
      "3\n",
      "974083025088\n",
      "3048.5\n"
     ]
    }
   ],
   "source": [
    "# Podemos imprimir o resultado de expressões\n",
    "print(1+2)\n",
    "print(123456 * 7890123)\n",
    "print(1.3 * 2345)"
   ]
  },
  {
   "cell_type": "code",
   "execution_count": 25,
   "metadata": {},
   "outputs": [
    {
     "name": "stdout",
     "output_type": "stream",
     "text": [
      "Oficina 2021 Python 4\n"
     ]
    }
   ],
   "source": [
    "# Também possibilita imprimir vários valores separados por vírgula\n",
    "print(\"Oficina\", 2021, \"Python\", 2 + 2)"
   ]
  },
  {
   "cell_type": "code",
   "execution_count": 28,
   "metadata": {},
   "outputs": [
    {
     "name": "stdout",
     "output_type": "stream",
     "text": [
      "Oficina Python Básico\n",
      "Oficina\n",
      "Python Básico\n",
      "Python é muito versátil e fácil para aprender\n",
      "Python é\n",
      "muito versátil e\tfácil\tpara\taprender\n"
     ]
    }
   ],
   "source": [
    "# Observe o uso dos caracteres especiais\n",
    "# \\n (quebra-de-linha)\n",
    "print(\"Oficina Python Básico\")\n",
    "print(\"Oficina\\nPython Básico\")\n",
    "# \\t (tabulação)\n",
    "print(\"Python é muito versátil e fácil para aprender\")\n",
    "print(\"Python é\\nmuito versátil e\\tfácil\\tpara\\taprender\")"
   ]
  },
  {
   "cell_type": "markdown",
   "metadata": {},
   "source": [
    "### FIM\n",
    "### <a href=\"http://github.com/pjandl/opy1\">Oficina Python Básico</a>"
   ]
  }
 ],
 "metadata": {
  "kernelspec": {
   "display_name": "Python 3",
   "language": "python",
   "name": "python3"
  },
  "language_info": {
   "codemirror_mode": {
    "name": "ipython",
    "version": 3
   },
   "file_extension": ".py",
   "mimetype": "text/x-python",
   "name": "python",
   "nbconvert_exporter": "python",
   "pygments_lexer": "ipython3",
   "version": "3.8.5"
  }
 },
 "nbformat": 4,
 "nbformat_minor": 4
}
