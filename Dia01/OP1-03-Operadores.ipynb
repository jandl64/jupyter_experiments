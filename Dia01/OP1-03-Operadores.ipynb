{
 "cells": [
  {
   "cell_type": "markdown",
   "metadata": {},
   "source": [
    "# <font color='#7F0000'>Oficina Python Básico [Dia 1]</font>\n",
    "# <font color='#7F0000'>Operadores</font>"
   ]
  },
  {
   "cell_type": "code",
   "execution_count": 1,
   "metadata": {},
   "outputs": [],
   "source": [
    "# Variáveis e valores literais podem ser combinados por meio de\n",
    "# operadores aritméticos, relacionais e lógicos; formando expressões\n",
    "# que podem produzir resultados mais sofisticados."
   ]
  },
  {
   "cell_type": "markdown",
   "metadata": {},
   "source": [
    "## Definição de variáveis"
   ]
  },
  {
   "cell_type": "code",
   "execution_count": 1,
   "metadata": {},
   "outputs": [],
   "source": [
    "# variáveis para conter números inteiros\n",
    "i = 0\n",
    "contador = 7"
   ]
  },
  {
   "cell_type": "code",
   "execution_count": 4,
   "metadata": {},
   "outputs": [],
   "source": [
    "# variáveis para conter números reais\n",
    "valor = 0.23\n",
    "fator = -4.56"
   ]
  },
  {
   "cell_type": "code",
   "execution_count": 5,
   "metadata": {},
   "outputs": [],
   "source": [
    "# variáveis para conter Strings\n",
    "nome = \"Peter Jandl Jr\"\n",
    "oficina = 'Python'"
   ]
  },
  {
   "cell_type": "code",
   "execution_count": 6,
   "metadata": {},
   "outputs": [],
   "source": [
    "# variáveis para conter valores lógicos\n",
    "flag = True\n",
    "entrada = False"
   ]
  },
  {
   "cell_type": "markdown",
   "metadata": {},
   "source": [
    "## Uso das variáveis"
   ]
  },
  {
   "cell_type": "code",
   "execution_count": 7,
   "metadata": {},
   "outputs": [
    {
     "name": "stdout",
     "output_type": "stream",
     "text": [
      "0\n",
      "0.23\n"
     ]
    }
   ],
   "source": [
    "# Exibição de variáveis existentes\n",
    "print(i)\n",
    "print(valor)"
   ]
  },
  {
   "cell_type": "code",
   "execution_count": 8,
   "metadata": {},
   "outputs": [
    {
     "ename": "NameError",
     "evalue": "name 'x' is not defined",
     "output_type": "error",
     "traceback": [
      "\u001b[0;31m---------------------------------------------------------------------------\u001b[0m",
      "\u001b[0;31mNameError\u001b[0m                                 Traceback (most recent call last)",
      "\u001b[0;32m<ipython-input-8-519ea06dda9e>\u001b[0m in \u001b[0;36m<module>\u001b[0;34m\u001b[0m\n\u001b[1;32m      1\u001b[0m \u001b[0;31m# Não se podem usar variáveis que não foram declaradas\u001b[0m\u001b[0;34m\u001b[0m\u001b[0;34m\u001b[0m\u001b[0;34m\u001b[0m\u001b[0m\n\u001b[0;32m----> 2\u001b[0;31m \u001b[0mprint\u001b[0m\u001b[0;34m(\u001b[0m\u001b[0mx\u001b[0m\u001b[0;34m)\u001b[0m\u001b[0;34m\u001b[0m\u001b[0;34m\u001b[0m\u001b[0m\n\u001b[0m",
      "\u001b[0;31mNameError\u001b[0m: name 'x' is not defined"
     ]
    }
   ],
   "source": [
    "# Não se podem usar variáveis que não foram declaradas\n",
    "print(x)"
   ]
  },
  {
   "cell_type": "code",
   "execution_count": 9,
   "metadata": {},
   "outputs": [
    {
     "name": "stdout",
     "output_type": "stream",
     "text": [
      "1.61\n",
      "7 * 0.23 = 1.61\n"
     ]
    }
   ],
   "source": [
    "# novas variáveis podem usar expressões com variáveis existentes\n",
    "a = contador * valor\n",
    "print(a)\n",
    "print(contador, \"*\", valor, \"=\", a)"
   ]
  },
  {
   "cell_type": "markdown",
   "metadata": {},
   "source": [
    "## Operadores"
   ]
  },
  {
   "cell_type": "code",
   "execution_count": 12,
   "metadata": {},
   "outputs": [
    {
     "name": "stdout",
     "output_type": "stream",
     "text": [
      "soma = 10\n",
      "10\n"
     ]
    }
   ],
   "source": [
    "# Variáveis e literais podem ser combinados com operadores aritméticos\n",
    "print(\"soma =\", i + 10)\n",
    "res = i + 10\n",
    "print(res)"
   ]
  },
  {
   "cell_type": "code",
   "execution_count": 16,
   "metadata": {},
   "outputs": [
    {
     "name": "stdout",
     "output_type": "stream",
     "text": [
      "subtracao = 9\n",
      "11\n"
     ]
    }
   ],
   "source": [
    "# A realização de uma expressão não altera as variáveis envolvidas\n",
    "print(\"subtracao =\", contador - 2)\n",
    "print(contador)"
   ]
  },
  {
   "cell_type": "code",
   "execution_count": 17,
   "metadata": {},
   "outputs": [
    {
     "name": "stdout",
     "output_type": "stream",
     "text": [
      "9\n"
     ]
    }
   ],
   "source": [
    "# APENAS atribuição altera o valor de uma variável\n",
    "contador = contador - 2\n",
    "print(contador)"
   ]
  },
  {
   "cell_type": "code",
   "execution_count": 25,
   "metadata": {},
   "outputs": [
    {
     "name": "stdout",
     "output_type": "stream",
     "text": [
      "Oficina 2021 Python 4\n"
     ]
    }
   ],
   "source": [
    "# Também possibilita imprimir vários valores separados por vírgula\n",
    "print(\"Oficina\", 2021, \"Python\", 2 + 2)"
   ]
  },
  {
   "cell_type": "code",
   "execution_count": 28,
   "metadata": {},
   "outputs": [
    {
     "name": "stdout",
     "output_type": "stream",
     "text": [
      "Oficina Python Básico\n",
      "Oficina\n",
      "Python Básico\n",
      "Python é muito versátil e fácil para aprender\n",
      "Python é\n",
      "muito versátil e\tfácil\tpara\taprender\n"
     ]
    }
   ],
   "source": [
    "# Observe o uso dos caracteres especiais\n",
    "# \\n (quebra-de-linha)\n",
    "print(\"Oficina Python Básico\")\n",
    "print(\"Oficina\\nPython Básico\")\n",
    "# \\t (tabulação)\n",
    "print(\"Python é muito versátil e fácil para aprender\")\n",
    "print(\"Python é\\nmuito versátil e\\tfácil\\tpara\\taprender\")"
   ]
  },
  {
   "cell_type": "markdown",
   "metadata": {},
   "source": [
    "### FIM\n",
    "### <a href=\"http://github.com/pjandl/opy1\">Oficina Python Básico</a>"
   ]
  }
 ],
 "metadata": {
  "kernelspec": {
   "display_name": "Python 3",
   "language": "python",
   "name": "python3"
  },
  "language_info": {
   "codemirror_mode": {
    "name": "ipython",
    "version": 3
   },
   "file_extension": ".py",
   "mimetype": "text/x-python",
   "name": "python",
   "nbconvert_exporter": "python",
   "pygments_lexer": "ipython3",
   "version": "3.8.5"
  }
 },
 "nbformat": 4,
 "nbformat_minor": 4
}
