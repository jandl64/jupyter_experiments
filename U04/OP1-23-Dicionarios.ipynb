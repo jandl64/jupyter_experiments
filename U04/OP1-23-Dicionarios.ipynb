{
 "cells": [
  {
   "cell_type": "markdown",
   "metadata": {},
   "source": [
    "# <font color='#7F0000'>Oficina Python Básico<br/>OP1-23-Dicionários</font>"
   ]
  },
  {
   "cell_type": "code",
   "execution_count": 4,
   "metadata": {},
   "outputs": [],
   "source": [
    "# São coleções não ordenadas, mutáveis de elementos associados em pares de\n",
    "# chave e valor, onde cada chave é associada (mapeada) em um valor.\n",
    "# As chaves não se repetem (como num conjunto) e podem existir qualquer número.\n",
    "# Cada chave tem um valor, que pode se repetir (em chaves diferentes).\n",
    "# As chaves podem ser de qualquer tipo imutável, enquanto os valores associados\n",
    "# podem ser de qualquer tipo, caracterizando uma estrutura heterogêneas.\n",
    "# Constituem o tipo embutido dict."
   ]
  },
  {
   "cell_type": "markdown",
   "metadata": {},
   "source": [
    "## Definição de dicionários"
   ]
  },
  {
   "cell_type": "code",
   "execution_count": 5,
   "metadata": {},
   "outputs": [],
   "source": [
    "# Dicionário vazio\n",
    "dict0 = {}"
   ]
  },
  {
   "cell_type": "code",
   "execution_count": 6,
   "metadata": {},
   "outputs": [
    {
     "data": {
      "text/plain": [
       "{}"
      ]
     },
     "execution_count": 6,
     "metadata": {},
     "output_type": "execute_result"
    }
   ],
   "source": [
    "dict0"
   ]
  },
  {
   "cell_type": "code",
   "execution_count": 7,
   "metadata": {},
   "outputs": [
    {
     "data": {
      "text/plain": [
       "dict"
      ]
     },
     "execution_count": 7,
     "metadata": {},
     "output_type": "execute_result"
    }
   ],
   "source": [
    "# Tipo\n",
    "type(dict0)"
   ]
  },
  {
   "cell_type": "code",
   "execution_count": 11,
   "metadata": {},
   "outputs": [],
   "source": [
    "# Dicionário com UM par chave-valor\n",
    "dict1 = {'jedi' : 'Luke Skywalker'}"
   ]
  },
  {
   "cell_type": "code",
   "execution_count": 23,
   "metadata": {},
   "outputs": [
    {
     "data": {
      "text/plain": [
       "dict"
      ]
     },
     "execution_count": 23,
     "metadata": {},
     "output_type": "execute_result"
    }
   ],
   "source": [
    "type(dict1)"
   ]
  },
  {
   "cell_type": "code",
   "execution_count": 19,
   "metadata": {},
   "outputs": [
    {
     "data": {
      "text/plain": [
       "{'jedi': 'Luke Skywalker'}"
      ]
     },
     "execution_count": 19,
     "metadata": {},
     "output_type": "execute_result"
    }
   ],
   "source": [
    "dict1"
   ]
  },
  {
   "cell_type": "code",
   "execution_count": 22,
   "metadata": {},
   "outputs": [
    {
     "data": {
      "text/plain": [
       "dict_keys(['jedi'])"
      ]
     },
     "execution_count": 22,
     "metadata": {},
     "output_type": "execute_result"
    }
   ],
   "source": [
    "# É possível listar as chaves de um dicionário\n",
    "dict1.keys()"
   ]
  },
  {
   "cell_type": "code",
   "execution_count": 24,
   "metadata": {},
   "outputs": [
    {
     "data": {
      "text/plain": [
       "dict_values(['Luke Skywalker'])"
      ]
     },
     "execution_count": 24,
     "metadata": {},
     "output_type": "execute_result"
    }
   ],
   "source": [
    "# É possível listar os valores de um dicionário\n",
    "dict1.values()"
   ]
  },
  {
   "cell_type": "code",
   "execution_count": 20,
   "metadata": {},
   "outputs": [],
   "source": [
    "# Dicionário com dois pares chave-valor\n",
    "dict2 = { 'Jinn' : 'Qui-Gon', 'Kenobi' : 'Obi-Wan'}\n",
    "# Não podem existir chaves repetidas em um dicionário."
   ]
  },
  {
   "cell_type": "code",
   "execution_count": 25,
   "metadata": {},
   "outputs": [
    {
     "name": "stdout",
     "output_type": "stream",
     "text": [
      "Jinn\n",
      "Kenobi\n"
     ]
    }
   ],
   "source": [
    "# Lista das chaves do dicionário dict2\n",
    "for k in dict2.keys():\n",
    "    print(k)"
   ]
  },
  {
   "cell_type": "code",
   "execution_count": 21,
   "metadata": {},
   "outputs": [],
   "source": [
    "# Dicionário com três pares chave-valor\n",
    "dict3 = { 1 : 'Ahsoka', 2 : 'Luminara', 3 : 'Satele'}\n",
    "# Chaves iguais podem existir em dicionários diferentes."
   ]
  },
  {
   "cell_type": "code",
   "execution_count": 27,
   "metadata": {},
   "outputs": [
    {
     "name": "stdout",
     "output_type": "stream",
     "text": [
      "Ahsoka\n",
      "Luminara\n",
      "Satele\n"
     ]
    }
   ],
   "source": [
    "# Lista dos valores do dicionário dict3\n",
    "for v in dict3.values():\n",
    "    print(v)"
   ]
  },
  {
   "cell_type": "code",
   "execution_count": 28,
   "metadata": {},
   "outputs": [],
   "source": [
    "# Considere o dicionário\n",
    "jedi = {'Yoda':'Master', 'Kenobi':'Obi-Wan', 'Jinn':'Quin-Gon', 'Skywalker':'Luke'}"
   ]
  },
  {
   "cell_type": "code",
   "execution_count": 29,
   "metadata": {},
   "outputs": [],
   "source": [
    "# Um dicionário é como uma tabela com colunas chave e valor."
   ]
  },
  {
   "cell_type": "markdown",
   "metadata": {},
   "source": [
    "<img src='Dicionario.png'/>"
   ]
  },
  {
   "cell_type": "code",
   "execution_count": 31,
   "metadata": {},
   "outputs": [
    {
     "name": "stdout",
     "output_type": "stream",
     "text": [
      "Yoda\n",
      "Kenobi\n",
      "Jinn\n",
      "Skywalker\n"
     ]
    }
   ],
   "source": [
    "# Como padrão, um laço for percorre as chaves de um dicionário\n",
    "for e in jedi: print(e)"
   ]
  },
  {
   "cell_type": "markdown",
   "metadata": {},
   "source": [
    "## Adição de elementos"
   ]
  },
  {
   "cell_type": "code",
   "execution_count": 32,
   "metadata": {},
   "outputs": [],
   "source": [
    "# É possível adicionar pares num dicionário existente usando a forma:\n",
    "# dicionario [ novaChave ] = novoValor"
   ]
  },
  {
   "cell_type": "code",
   "execution_count": 36,
   "metadata": {},
   "outputs": [],
   "source": [
    "jedi['Tano'] = 'Asoka'"
   ]
  },
  {
   "cell_type": "code",
   "execution_count": 37,
   "metadata": {},
   "outputs": [
    {
     "name": "stdout",
     "output_type": "stream",
     "text": [
      "{'Yoda': 'Master', 'Kenobi': 'Obi-Wan', 'Jinn': 'Quin-Gon', 'Skywalker': 'Luke', 'Tano': 'Asoka'}\n"
     ]
    }
   ],
   "source": [
    "print(jedi)"
   ]
  },
  {
   "cell_type": "markdown",
   "metadata": {},
   "source": [
    "## Recuperação de elementos"
   ]
  },
  {
   "cell_type": "code",
   "execution_count": null,
   "metadata": {},
   "outputs": [],
   "source": [
    "# A recuperação de elementos num dicionário é associativa"
   ]
  },
  {
   "cell_type": "code",
   "execution_count": 48,
   "metadata": {},
   "outputs": [
    {
     "name": "stdout",
     "output_type": "stream",
     "text": [
      "Master\n"
     ]
    }
   ],
   "source": [
    "# Usamos a chave para recuperar seu valor\n",
    "print(jedi['Yoda'])"
   ]
  },
  {
   "cell_type": "code",
   "execution_count": 49,
   "metadata": {},
   "outputs": [
    {
     "ename": "KeyError",
     "evalue": "'Windu'",
     "output_type": "error",
     "traceback": [
      "\u001b[0;31m---------------------------------------------------------------------------\u001b[0m",
      "\u001b[0;31mKeyError\u001b[0m                                  Traceback (most recent call last)",
      "\u001b[0;32m<ipython-input-49-1456b0258c4b>\u001b[0m in \u001b[0;36m<module>\u001b[0;34m\u001b[0m\n\u001b[1;32m      1\u001b[0m \u001b[0;31m# Se a chave indicada para remoção não existe, ocorre um erro\u001b[0m\u001b[0;34m\u001b[0m\u001b[0;34m\u001b[0m\u001b[0;34m\u001b[0m\u001b[0m\n\u001b[0;32m----> 2\u001b[0;31m \u001b[0mprint\u001b[0m\u001b[0;34m(\u001b[0m\u001b[0mjedi\u001b[0m\u001b[0;34m[\u001b[0m\u001b[0;34m'Windu'\u001b[0m\u001b[0;34m]\u001b[0m\u001b[0;34m)\u001b[0m\u001b[0;34m\u001b[0m\u001b[0;34m\u001b[0m\u001b[0m\n\u001b[0m",
      "\u001b[0;31mKeyError\u001b[0m: 'Windu'"
     ]
    }
   ],
   "source": [
    "# Se a chave indicada para remoção não existe, ocorre um erro\n",
    "print(jedi['Windu'])"
   ]
  },
  {
   "cell_type": "code",
   "execution_count": 50,
   "metadata": {},
   "outputs": [
    {
     "data": {
      "text/plain": [
       "False"
      ]
     },
     "execution_count": 50,
     "metadata": {},
     "output_type": "execute_result"
    }
   ],
   "source": [
    "# Usamos o operador in para verificar a existência de uma chave\n",
    "'Windu' in jedi"
   ]
  },
  {
   "cell_type": "code",
   "execution_count": 52,
   "metadata": {},
   "outputs": [
    {
     "name": "stdout",
     "output_type": "stream",
     "text": [
      "Digite o sobrenome de um jedi: Yoda\n",
      "Master Yoda\n"
     ]
    }
   ],
   "source": [
    "# Faça este teste:\n",
    "chave = input('Digite o sobrenome de um jedi: ')\n",
    "if chave in jedi:\n",
    "    print(jedi[chave], chave)\n",
    "else:\n",
    "    print('Jedi não localizado no dicionário')"
   ]
  },
  {
   "cell_type": "markdown",
   "metadata": {},
   "source": [
    "## Alteração de elementos"
   ]
  },
  {
   "cell_type": "code",
   "execution_count": null,
   "metadata": {},
   "outputs": [],
   "source": [
    "# É possível alterar o valor de uma chave existente usando a forma:\n",
    "# dicionario [ chaveExistente ] = novoValor"
   ]
  },
  {
   "cell_type": "code",
   "execution_count": 41,
   "metadata": {},
   "outputs": [],
   "source": [
    "jedi['Tano'] = 'Ahsoka'"
   ]
  },
  {
   "cell_type": "code",
   "execution_count": 42,
   "metadata": {},
   "outputs": [
    {
     "name": "stdout",
     "output_type": "stream",
     "text": [
      "{'Yoda': 'Master', 'Kenobi': 'Obi-Wan', 'Jinn': 'Quin-Gon', 'Skywalker': 'Luke', 'Tano': 'Ahsoka'}\n"
     ]
    }
   ],
   "source": [
    "print(jedi)"
   ]
  },
  {
   "cell_type": "code",
   "execution_count": 43,
   "metadata": {},
   "outputs": [],
   "source": [
    "# Se a chave indicada não existe, ela é adicionada ao dicionário\n",
    "jedi['Luminara'] = 'Unduli'"
   ]
  },
  {
   "cell_type": "code",
   "execution_count": 44,
   "metadata": {},
   "outputs": [
    {
     "name": "stdout",
     "output_type": "stream",
     "text": [
      "{'Yoda': 'Master', 'Kenobi': 'Obi-Wan', 'Jinn': 'Quin-Gon', 'Skywalker': 'Luke', 'Tano': 'Ahsoka', 'Luminara': 'Unduli'}\n"
     ]
    }
   ],
   "source": [
    "print(jedi)"
   ]
  },
  {
   "cell_type": "markdown",
   "metadata": {},
   "source": [
    "## Remoção de elementos"
   ]
  },
  {
   "cell_type": "code",
   "execution_count": null,
   "metadata": {},
   "outputs": [],
   "source": [
    "# A remoção de elementos requer o uso da funcão pop, que\n",
    "# requer indicar a chave a ser removida (e retorna o valor associado)."
   ]
  },
  {
   "cell_type": "code",
   "execution_count": 45,
   "metadata": {},
   "outputs": [],
   "source": [
    "valor = jedi.pop('Luminara')"
   ]
  },
  {
   "cell_type": "code",
   "execution_count": 46,
   "metadata": {},
   "outputs": [
    {
     "name": "stdout",
     "output_type": "stream",
     "text": [
      "{'Yoda': 'Master', 'Kenobi': 'Obi-Wan', 'Jinn': 'Quin-Gon', 'Skywalker': 'Luke', 'Tano': 'Ahsoka'}\n"
     ]
    }
   ],
   "source": [
    "print(jedi)"
   ]
  },
  {
   "cell_type": "code",
   "execution_count": 47,
   "metadata": {},
   "outputs": [
    {
     "ename": "KeyError",
     "evalue": "'Windu'",
     "output_type": "error",
     "traceback": [
      "\u001b[0;31m---------------------------------------------------------------------------\u001b[0m",
      "\u001b[0;31mKeyError\u001b[0m                                  Traceback (most recent call last)",
      "\u001b[0;32m<ipython-input-47-a55ef4ca1b2b>\u001b[0m in \u001b[0;36m<module>\u001b[0;34m\u001b[0m\n\u001b[1;32m      1\u001b[0m \u001b[0;31m# Se a chave indicada para remoção não existe, ocorre um erro\u001b[0m\u001b[0;34m\u001b[0m\u001b[0;34m\u001b[0m\u001b[0;34m\u001b[0m\u001b[0m\n\u001b[0;32m----> 2\u001b[0;31m \u001b[0mjedi\u001b[0m\u001b[0;34m.\u001b[0m\u001b[0mpop\u001b[0m\u001b[0;34m(\u001b[0m\u001b[0;34m'Windu'\u001b[0m\u001b[0;34m)\u001b[0m\u001b[0;34m\u001b[0m\u001b[0;34m\u001b[0m\u001b[0m\n\u001b[0m",
      "\u001b[0;31mKeyError\u001b[0m: 'Windu'"
     ]
    }
   ],
   "source": [
    "# Se a chave indicada para remoção não existe, ocorre um erro\n",
    "jedi.pop('Windu')"
   ]
  },
  {
   "cell_type": "markdown",
   "metadata": {},
   "source": [
    "### FIM\n",
    "### <a href=\"http://github.com/pjandl/opy1\">Oficina Python Básico</a>"
   ]
  }
 ],
 "metadata": {
  "kernelspec": {
   "display_name": "Python 3",
   "language": "python",
   "name": "python3"
  },
  "language_info": {
   "codemirror_mode": {
    "name": "ipython",
    "version": 3
   },
   "file_extension": ".py",
   "mimetype": "text/x-python",
   "name": "python",
   "nbconvert_exporter": "python",
   "pygments_lexer": "ipython3",
   "version": "3.8.5"
  }
 },
 "nbformat": 4,
 "nbformat_minor": 4
}
