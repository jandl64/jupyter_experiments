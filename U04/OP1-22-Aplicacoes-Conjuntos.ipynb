{
 "cells": [
  {
   "cell_type": "markdown",
   "metadata": {},
   "source": [
    "# <font color='#7F0000'>Oficina Python Básico<br/>OP1-22-Aplicações de Conjuntos</font>"
   ]
  },
  {
   "cell_type": "code",
   "execution_count": 1,
   "metadata": {},
   "outputs": [],
   "source": [
    "# Conjuntos podem ser usados para manter coleções variáveis (mutáveis)\n",
    "# de elementos distintos de qualquer tipo (heterogêneos)."
   ]
  },
  {
   "cell_type": "markdown",
   "metadata": {},
   "source": [
    "## Conjuntos de palavras"
   ]
  },
  {
   "cell_type": "code",
   "execution_count": 1,
   "metadata": {},
   "outputs": [],
   "source": [
    "# Cria conjunto de palavras\n",
    "def criaConjunto():\n",
    "    conjunto = set()    # conjunto vazio\n",
    "    palavra = input('Digite uma palavra (enter finaliza): ')\n",
    "    while len(palavra) > 0:\n",
    "        print(conjunto,'<--',palavra)\n",
    "        conjunto.add(palavra)\n",
    "        palavra = input('Digite uma palavra (enter finaliza): ')\n",
    "    print(conjunto)\n",
    "    return conjunto"
   ]
  },
  {
   "cell_type": "code",
   "execution_count": 8,
   "metadata": {},
   "outputs": [],
   "source": [
    "# Cria dois conjuntos de palavras com a função criaConjunto\n",
    "A = criaConjunto()  # cria um conjunto de palavras A\n",
    "B = criaConjunto()  # cria um conjunto de palavras B"
   ]
  },
  {
   "cell_type": "code",
   "execution_count": 9,
   "metadata": {},
   "outputs": [],
   "source": [
    "# Operações sobre os conjuntos\n",
    "print('União A | B:', A | B)\n",
    "print('-----------:', A.union(B))\n",
    "\n",
    "print('Intersecção A & B:', A & B)\n",
    "print('-----------------:', A.intersection(B))\n",
    "\n",
    "print('Diferença A - B:', A - B)\n",
    "print('---------------:', A.difference(B))\n",
    "print('Diferença B - A:', B - A)\n",
    "print('---------------:', B.difference(A))\n",
    "        \n",
    "print('Diferença simétrica A ^ B:', A ^ B)\n",
    "print('-------------------------:', A.symmetric_difference(B))\n",
    "print('Diferença simátrica B ^ A:', B ^ A)\n",
    "print('-------------------------:', B.symmetric_difference(A))"
   ]
  },
  {
   "cell_type": "markdown",
   "metadata": {},
   "source": [
    "## Conjuntos de números"
   ]
  },
  {
   "cell_type": "code",
   "execution_count": null,
   "metadata": {},
   "outputs": [],
   "source": [
    "# coleções\n",
    "pares = set()   # conjunto (lista sem repetição) de valores pares\n",
    "impares = set() # conjunto (lista sem repetição) de valores ímpares\n",
    "numeros = []    # relação (lista) de valores digitados"
   ]
  },
  {
   "cell_type": "code",
   "execution_count": null,
   "metadata": {},
   "outputs": [],
   "source": [
    "print('--COLEÇÕES--')\n",
    "# entrada de dados\n",
    "while True:\n",
    "    valor = int(input(\"Valor inteiro [0 ou negativo finaliza]: \"))\n",
    "    # Verifica fim\n",
    "    if valor < 1:\n",
    "        break\n",
    "    # inclui valor na lista de números\n",
    "    numeros.append(valor)\n",
    "    # separa valores pares dos ímpares\n",
    "    if valor % 2 == 0:\n",
    "        pares.add(valor)\n",
    "    else:\n",
    "        impares.add(valor)\n",
    "    # impressão das coleções\n",
    "    print('    Números:{}'.format(numeros))\n",
    "    print('      Pares:{}'.format(pares))\n",
    "    print('    Ímpares:{}'.format(impares))\n",
    "    print('Par+Ímpares:{}'.format(pares|impares))\n",
    "\n",
    "print('--  FIM  ---')"
   ]
  },
  {
   "cell_type": "markdown",
   "metadata": {},
   "source": [
    "### FIM\n",
    "### <a href=\"http://github.com/pjandl/opy1\">Oficina Python Básico</a>"
   ]
  }
 ],
 "metadata": {
  "kernelspec": {
   "display_name": "Python 3",
   "language": "python",
   "name": "python3"
  },
  "language_info": {
   "codemirror_mode": {
    "name": "ipython",
    "version": 3
   },
   "file_extension": ".py",
   "mimetype": "text/x-python",
   "name": "python",
   "nbconvert_exporter": "python",
   "pygments_lexer": "ipython3",
   "version": "3.8.5"
  }
 },
 "nbformat": 4,
 "nbformat_minor": 4
}
