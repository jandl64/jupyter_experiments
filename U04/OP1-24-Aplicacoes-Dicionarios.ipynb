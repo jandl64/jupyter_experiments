{
 "cells": [
  {
   "cell_type": "markdown",
   "metadata": {},
   "source": [
    "# <font color='#7F0000'>Oficina Python Básico<br/>OP1-24-Aplicações de Dicionários</font>"
   ]
  },
  {
   "cell_type": "code",
   "execution_count": 1,
   "metadata": {},
   "outputs": [],
   "source": [
    "# Dicionários podem ser usados para associar qualquer quantidade de pares\n",
    "# chave-valor, mantendo dados distintos de uma entidade/elemento do programa.\n",
    "# Podem ser usados para manter coleções semelhantes de dados, identificadas\n",
    "# por chaves distintas."
   ]
  },
  {
   "cell_type": "markdown",
   "metadata": {},
   "source": [
    "## Exemplo de uso"
   ]
  },
  {
   "cell_type": "code",
   "execution_count": 1,
   "metadata": {},
   "outputs": [
    {
     "name": "stdout",
     "output_type": "stream",
     "text": [
      "Carro - cor: Prata\n",
      "Carro - marca: Fiat\n",
      "Carro - modelo: Linea\n"
     ]
    }
   ],
   "source": [
    "# dados\n",
    "cor = input('Carro - cor: ')\n",
    "marca = input('Carro - marca: ')\n",
    "modelo = input('Carro - modelo: ')"
   ]
  },
  {
   "cell_type": "code",
   "execution_count": 3,
   "metadata": {},
   "outputs": [],
   "source": [
    "# dicionário\n",
    "# uma forma de definir\n",
    "dict1 = {'cor':cor, 'marca':marca, 'modelo':modelo}"
   ]
  },
  {
   "cell_type": "code",
   "execution_count": 4,
   "metadata": {},
   "outputs": [],
   "source": [
    "dict2 = {} # outra forma de definir\n",
    "dict2['cor'] = cor\n",
    "dict2['marca'] = marca\n",
    "dict2['modelo'] = modelo"
   ]
  },
  {
   "cell_type": "code",
   "execution_count": 5,
   "metadata": {},
   "outputs": [
    {
     "name": "stdout",
     "output_type": "stream",
     "text": [
      "dict1\n",
      "cor:Prata\n",
      "marca:Fiat\n",
      "modelo:Linea\n"
     ]
    }
   ],
   "source": [
    "# impressão de chaves e valores\n",
    "print('dict1')\n",
    "for k in dict1.keys():\n",
    "    print('{}:{}'.format(k, dict1[k]))"
   ]
  },
  {
   "cell_type": "code",
   "execution_count": 7,
   "metadata": {},
   "outputs": [
    {
     "name": "stdout",
     "output_type": "stream",
     "text": [
      "dict2\n",
      "cor:Prata\n",
      "marca:Fiat\n",
      "modelo:Linea\n"
     ]
    }
   ],
   "source": [
    "# impressão de chaves e valores\n",
    "print('dict2')\n",
    "for k in dict1.keys():          \n",
    "    print('{}:{}'.format(k, dict2[k]))"
   ]
  },
  {
   "cell_type": "markdown",
   "metadata": {},
   "source": [
    "## Testador de dicionário"
   ]
  },
  {
   "cell_type": "code",
   "execution_count": 8,
   "metadata": {},
   "outputs": [],
   "source": [
    "# opções\n",
    "listaOpcoes = ['Localizar chave-valor', 'Alterar chave-valor',\n",
    "               'Remover chave-valor', 'Adicionar chave-valor', 'Sair', ]\n",
    "# define dicionario vazio\n",
    "dicionario = {}"
   ]
  },
  {
   "cell_type": "code",
   "execution_count": 9,
   "metadata": {},
   "outputs": [],
   "source": [
    "# função localizar\n",
    "def localizar():\n",
    "    chave = input('Qual chave-valor quer localizar? ')\n",
    "    if chave in dicionario:\n",
    "        print('Valor associado', dicionario[chave])\n",
    "    else:\n",
    "        print('Chave não localizada')\n",
    "    return"
   ]
  },
  {
   "cell_type": "code",
   "execution_count": 10,
   "metadata": {},
   "outputs": [],
   "source": [
    "# função alterar\n",
    "def alterar():\n",
    "    chave = input('Qual chave-valor quer localizar? ')\n",
    "    if chave in dicionario:\n",
    "        valor = input('Qual novo valor da chave? ')\n",
    "        dicionario[chave] = valor\n",
    "        print('Novo valor associado')\n",
    "    else:\n",
    "        print('Chave não localizada')\n",
    "    return"
   ]
  },
  {
   "cell_type": "code",
   "execution_count": 11,
   "metadata": {},
   "outputs": [],
   "source": [
    "# função remover\n",
    "def remover():\n",
    "    chave = input('Qual chave-valor quer localizar? ')\n",
    "    if chave in dicionario:\n",
    "        valor = dicionario.pop(chave)\n",
    "        print('Valor associado removido: ', valor)\n",
    "    else:\n",
    "        print('Chave não localizada')\n",
    "    return"
   ]
  },
  {
   "cell_type": "code",
   "execution_count": 12,
   "metadata": {},
   "outputs": [],
   "source": [
    "# função adicionar\n",
    "def adicionar():\n",
    "    chave = input('Qual nova chave? ')\n",
    "    valor = input('Qual valor associado? ')\n",
    "    dicionario[chave] = valor\n",
    "    print('Novo par chave-valor criado')"
   ]
  },
  {
   "cell_type": "code",
   "execution_count": 13,
   "metadata": {},
   "outputs": [
    {
     "name": "stdout",
     "output_type": "stream",
     "text": [
      "=====\n",
      "{}\n",
      "=====\n",
      "0.Localizar chave-valor\n",
      "1.Alterar chave-valor\n",
      "2.Remover chave-valor\n",
      "3.Adicionar chave-valor\n",
      "4.Sair\n",
      "Opção? 3\n",
      "Qual nova chave? Peter\n",
      "Qual valor associado? Jandl\n",
      "Novo par chave-valor criado\n",
      "=====\n",
      "{'Peter': 'Jandl'}\n",
      "=====\n",
      "0.Localizar chave-valor\n",
      "1.Alterar chave-valor\n",
      "2.Remover chave-valor\n",
      "3.Adicionar chave-valor\n",
      "4.Sair\n",
      "Opção? 3\n",
      "Qual nova chave? Benjamin\n",
      "Qual valor associado? Franklin\n",
      "Novo par chave-valor criado\n",
      "=====\n",
      "{'Peter': 'Jandl', 'Benjamin': 'Franklin'}\n",
      "=====\n",
      "0.Localizar chave-valor\n",
      "1.Alterar chave-valor\n",
      "2.Remover chave-valor\n",
      "3.Adicionar chave-valor\n",
      "4.Sair\n",
      "Opção? 1\n",
      "Qual chave-valor quer localizar? Peter\n",
      "Qual novo valor da chave? Jandl Junior\n",
      "Novo valor associado\n",
      "=====\n",
      "{'Peter': 'Jandl Junior', 'Benjamin': 'Franklin'}\n",
      "=====\n",
      "0.Localizar chave-valor\n",
      "1.Alterar chave-valor\n",
      "2.Remover chave-valor\n",
      "3.Adicionar chave-valor\n",
      "4.Sair\n",
      "Opção? 3\n",
      "Qual nova chave? Benjamin\n",
      "Qual valor associado? Constant\n",
      "Novo par chave-valor criado\n",
      "=====\n",
      "{'Peter': 'Jandl Junior', 'Benjamin': 'Constant'}\n",
      "=====\n",
      "0.Localizar chave-valor\n",
      "1.Alterar chave-valor\n",
      "2.Remover chave-valor\n",
      "3.Adicionar chave-valor\n",
      "4.Sair\n",
      "Opção? 2\n",
      "Qual chave-valor quer localizar? Benjamin\n",
      "Valor associado removido:  Constant\n",
      "=====\n",
      "{'Peter': 'Jandl Junior'}\n",
      "=====\n",
      "0.Localizar chave-valor\n",
      "1.Alterar chave-valor\n",
      "2.Remover chave-valor\n",
      "3.Adicionar chave-valor\n",
      "4.Sair\n",
      "Opção? 4\n"
     ]
    }
   ],
   "source": [
    "# Menu\n",
    "while True:\n",
    "    print('=====')\n",
    "    print(dicionario)\n",
    "    print('=====')\n",
    "    for o in range(0, len(listaOpcoes)):\n",
    "        print('{:d}.{:s}'.format(o, listaOpcoes[o]))\n",
    "    opcao = int(input('Opção? '))\n",
    "    if opcao == 0:\n",
    "        localizar()\n",
    "    elif opcao == 1:\n",
    "        alterar()\n",
    "    elif opcao == 2:\n",
    "        remover()\n",
    "    elif opcao == 3:\n",
    "        adicionar()\n",
    "    else:\n",
    "        break"
   ]
  },
  {
   "cell_type": "markdown",
   "metadata": {},
   "source": [
    "### FIM\n",
    "### <a href=\"http://github.com/pjandl/opy1\">Oficina Python Básico</a>"
   ]
  }
 ],
 "metadata": {
  "kernelspec": {
   "display_name": "Python 3",
   "language": "python",
   "name": "python3"
  },
  "language_info": {
   "codemirror_mode": {
    "name": "ipython",
    "version": 3
   },
   "file_extension": ".py",
   "mimetype": "text/x-python",
   "name": "python",
   "nbconvert_exporter": "python",
   "pygments_lexer": "ipython3",
   "version": "3.8.5"
  }
 },
 "nbformat": 4,
 "nbformat_minor": 4
}
