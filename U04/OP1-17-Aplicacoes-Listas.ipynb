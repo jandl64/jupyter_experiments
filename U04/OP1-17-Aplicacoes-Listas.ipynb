{
 "cells": [
  {
   "cell_type": "markdown",
   "metadata": {},
   "source": [
    "# <font color='#7F0000'>Oficina Python Básico<br/>OP1-17-Aplicações de Listas</font>"
   ]
  },
  {
   "cell_type": "code",
   "execution_count": 2,
   "metadata": {},
   "outputs": [],
   "source": [
    "# Usar listas é bastante direto.\n",
    "# Listas podem conter qualquer quantidade de elementos."
   ]
  },
  {
   "cell_type": "code",
   "execution_count": 1,
   "metadata": {},
   "outputs": [],
   "source": [
    "# define tamanho desejado da lista\n",
    "MAX = 5\n",
    "# define uma lista vazia\n",
    "nomes = []"
   ]
  },
  {
   "cell_type": "code",
   "execution_count": 2,
   "metadata": {},
   "outputs": [
    {
     "name": "stdout",
     "output_type": "stream",
     "text": [
      "Digite 5 nomes\n",
      "1.Nome? a\n",
      "['a'] : 1\n",
      "2.Nome? b\n",
      "['a', 'b'] : 2\n",
      "3.Nome? c\n",
      "['a', 'b', 'c'] : 3\n",
      "4.Nome? d\n",
      "['a', 'b', 'c', 'd'] : 4\n",
      "5.Nome? e\n",
      "['a', 'b', 'c', 'd', 'e'] : 5\n"
     ]
    }
   ],
   "source": [
    "# entrada dos nomes\n",
    "print('Digite', MAX, 'nomes')\n",
    "for i in range(1, MAX+1): # 1, 2, 3, .., MAX\n",
    "    umNome = input(str(i) + '.Nome? ')\n",
    "    nomes.append(umNome)\n",
    "    print(nomes, ':', len(nomes)) # len obtém o tamanho da lista"
   ]
  },
  {
   "cell_type": "code",
   "execution_count": 3,
   "metadata": {
    "scrolled": true
   },
   "outputs": [
    {
     "name": "stdout",
     "output_type": "stream",
     "text": [
      "Qual nome deseja? [0..4]2\n",
      "2 : c\n",
      "Qual nome deseja? [0..4]5\n"
     ]
    }
   ],
   "source": [
    "# recuperação de nomes\n",
    "i = int(input('Qual nome deseja? [0..{:d}]'.format(MAX-1)))\n",
    "while i >= 0 and i < MAX:\n",
    "    print(i, ':', nomes[i])\n",
    "    i = int(input('Qual nome deseja? [0..{:d}]'.format(MAX-1)))"
   ]
  },
  {
   "cell_type": "markdown",
   "metadata": {},
   "source": [
    "### FIM\n",
    "### <a href=\"http://github.com/pjandl/opy1\">Oficina Python Básico</a>"
   ]
  }
 ],
 "metadata": {
  "kernelspec": {
   "display_name": "Python 3",
   "language": "python",
   "name": "python3"
  },
  "language_info": {
   "codemirror_mode": {
    "name": "ipython",
    "version": 3
   },
   "file_extension": ".py",
   "mimetype": "text/x-python",
   "name": "python",
   "nbconvert_exporter": "python",
   "pygments_lexer": "ipython3",
   "version": "3.8.5"
  }
 },
 "nbformat": 4,
 "nbformat_minor": 4
}
