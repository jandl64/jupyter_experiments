{
 "cells": [
  {
   "cell_type": "markdown",
   "metadata": {},
   "source": [
    "# <font color='#7F0000'>Oficina Python Básico<br/>OP1-20-Aplicações de Tuplas</font>"
   ]
  },
  {
   "cell_type": "code",
   "execution_count": 1,
   "metadata": {},
   "outputs": [],
   "source": [
    "# Tuplas podem ser usadas para manter conjuntos fixos\n",
    "# (imutáveis) de dados de qualquer tipo (heterogêneos)."
   ]
  },
  {
   "cell_type": "markdown",
   "metadata": {},
   "source": [
    "## Distância entre dois pontos"
   ]
  },
  {
   "cell_type": "code",
   "execution_count": 7,
   "metadata": {},
   "outputs": [],
   "source": [
    "import math"
   ]
  },
  {
   "cell_type": "code",
   "execution_count": 8,
   "metadata": {},
   "outputs": [],
   "source": [
    "# Função que lê um ponto x,y retornando-o como uma tupla\n",
    "def lePonto(nomePonto):\n",
    "    x = float(input('{:s}.coordenada x? '.format(nomePonto)))\n",
    "    y = float(input('{:s}.coordenada y? '.format(nomePonto)))\n",
    "    return (x, y) # cria e retorna uma tupla com valores de x e y"
   ]
  },
  {
   "cell_type": "code",
   "execution_count": 9,
   "metadata": {},
   "outputs": [],
   "source": [
    "# Função que calcula a distância no eixo X entre dois pontos p1 e p2\n",
    "# p1 e p2 são tuplas com coordenada (x, y).\n",
    "def deltaX(p1, p2):\n",
    "    delta = abs(p1[0] - p2[0])\n",
    "    return delta"
   ]
  },
  {
   "cell_type": "code",
   "execution_count": 10,
   "metadata": {},
   "outputs": [],
   "source": [
    "# Função que calcula a distância no eixo Y entre dois pontos p1 e p2\n",
    "# p1 e p2 são tuplas com coordenada (x, y).\n",
    "def deltaY(p1, p2):\n",
    "    delta = abs(p1[1] - p2[1])\n",
    "    return delta"
   ]
  },
  {
   "cell_type": "code",
   "execution_count": 11,
   "metadata": {},
   "outputs": [],
   "source": [
    "# Função que calcula a distância entre dois pontos p1 e p2\n",
    "# p1 e p2 são tuplas com coordenada (x, y).\n",
    "def distancia(p1, p2):\n",
    "    return math.sqrt(deltaX(p1, p2)**2 + deltaY(p1, p2)**2)"
   ]
  },
  {
   "cell_type": "code",
   "execution_count": 12,
   "metadata": {},
   "outputs": [
    {
     "name": "stdout",
     "output_type": "stream",
     "text": [
      "Ponto 1.coordenada x? 2\n",
      "Ponto 1.coordenada y? 5\n",
      "Ponto 2.coordenada x? 7\n",
      "Ponto 2.coordenada y? 3\n",
      "Distancia entre (2.0, 5.0) e (7.0, 3.0) é 5.385.\n"
     ]
    }
   ],
   "source": [
    "# Programa principal\n",
    "ponto1 = lePonto('Ponto 1')\n",
    "ponto2 = lePonto('Ponto 2')\n",
    "\n",
    "print('Distancia entre {:s} e {:s} é {:.3f}.'\n",
    "      .format(str(ponto1), str(ponto2), distancia(ponto1, ponto2)))"
   ]
  },
  {
   "cell_type": "markdown",
   "metadata": {},
   "source": [
    "### FIM\n",
    "### <a href=\"http://github.com/pjandl/opy1\">Oficina Python Básico</a>"
   ]
  }
 ],
 "metadata": {
  "kernelspec": {
   "display_name": "Python 3",
   "language": "python",
   "name": "python3"
  },
  "language_info": {
   "codemirror_mode": {
    "name": "ipython",
    "version": 3
   },
   "file_extension": ".py",
   "mimetype": "text/x-python",
   "name": "python",
   "nbconvert_exporter": "python",
   "pygments_lexer": "ipython3",
   "version": "3.8.5"
  }
 },
 "nbformat": 4,
 "nbformat_minor": 4
}
